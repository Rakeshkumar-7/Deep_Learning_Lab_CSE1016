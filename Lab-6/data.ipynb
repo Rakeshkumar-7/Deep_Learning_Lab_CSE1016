{
 "cells": [
  {
   "cell_type": "code",
   "execution_count": 3,
   "id": "156e8bcf",
   "metadata": {},
   "outputs": [],
   "source": [
    "# import the necessary packages\n",
    "import os\n",
    "# define the base path to the *original* input dataset and then use\n",
    "# the base path to derive the image and annotations directories\n",
    "ORIG_BASE_PATH = \"raccoon_dataset-master\"\n",
    "ORIG_IMAGES = os.path.sep.join([ORIG_BASE_PATH, \"images\"])\n",
    "ORIG_ANNOTS = os.path.sep.join([ORIG_BASE_PATH, \"annotations\"])"
   ]
  },
  {
   "cell_type": "code",
   "execution_count": 4,
   "id": "d2a987b7",
   "metadata": {},
   "outputs": [],
   "source": [
    "# define the base path to the *new* dataset after running our dataset\n",
    "# builder scripts and then use the base path to derive the paths to\n",
    "# our output class label directories\n",
    "BASE_PATH = \"dataset\"\n",
    "POSITVE_PATH = os.path.sep.join([BASE_PATH, \"raccoon\"])\n",
    "NEGATIVE_PATH = os.path.sep.join([BASE_PATH, \"no_raccoon\"])"
   ]
  },
  {
   "cell_type": "code",
   "execution_count": 5,
   "id": "abc1f4e6",
   "metadata": {},
   "outputs": [],
   "source": [
    "# define the number of max proposals used when running selective\n",
    "# search for (1) gathering training data and (2) performing inference\n",
    "MAX_PROPOSALS = 2000\n",
    "MAX_PROPOSALS_INFER = 200"
   ]
  },
  {
   "cell_type": "code",
   "execution_count": 6,
   "id": "ccf996ca",
   "metadata": {},
   "outputs": [],
   "source": [
    "# define the maximum number of positive and negative images to be\n",
    "# generated from each image\n",
    "MAX_POSITIVE = 30\n",
    "MAX_NEGATIVE = 10"
   ]
  },
  {
   "cell_type": "code",
   "execution_count": 7,
   "id": "3b3f1fd8",
   "metadata": {},
   "outputs": [],
   "source": [
    "# initialize the input dimensions to the network\n",
    "INPUT_DIMS = (224, 224)\n",
    "# define the path to the output model and label binarizer\n",
    "MODEL_PATH = \"raccoon_detector.h5\"\n",
    "ENCODER_PATH = \"label_encoder.pickle\"\n",
    "# define the minimum probability required for a positive prediction\n",
    "# (used to filter out false-positive predictions)\n",
    "MIN_PROBA = 0.99"
   ]
  },
  {
   "cell_type": "code",
   "execution_count": 11,
   "id": "28cf9655",
   "metadata": {},
   "outputs": [],
   "source": [
    "def compute_iou(boxA, boxB):\n",
    "    # determine the (x, y)-coordinates of the intersection rectangle\n",
    "    xA = max(boxA[0], boxB[0])\n",
    "    yA = max(boxA[1], boxB[1])\n",
    "    xB = min(boxA[2], boxB[2])\n",
    "    yB = min(boxA[3], boxB[3])\n",
    "    # compute the area of intersection rectangle\n",
    "    interArea = max(0, xB - xA + 1) * max(0, yB - yA + 1)\n",
    "    # compute the area of both the prediction and ground-truth\n",
    "    # rectangles\n",
    "    boxAArea = (boxA[2] - boxA[0] + 1) * (boxA[3] - boxA[1] + 1)\n",
    "    boxBArea = (boxB[2] - boxB[0] + 1) * (boxB[3] - boxB[1] + 1)\n",
    "    # compute the intersection over union by taking the intersection\n",
    "    # area and dividing it by the sum of prediction + ground-truth\n",
    "    # areas - the intersection area\n",
    "    iou = interArea / float(boxAArea + boxBArea - interArea)\n",
    "    # return the intersection over union value\n",
    "    return iou"
   ]
  },
  {
   "cell_type": "code",
   "execution_count": null,
   "id": "066da99f",
   "metadata": {},
   "outputs": [],
   "source": []
  }
 ],
 "metadata": {
  "kernelspec": {
   "display_name": "Python 3 (ipykernel)",
   "language": "python",
   "name": "python3"
  },
  "language_info": {
   "codemirror_mode": {
    "name": "ipython",
    "version": 3
   },
   "file_extension": ".py",
   "mimetype": "text/x-python",
   "name": "python",
   "nbconvert_exporter": "python",
   "pygments_lexer": "ipython3",
   "version": "3.9.12"
  }
 },
 "nbformat": 4,
 "nbformat_minor": 5
}
