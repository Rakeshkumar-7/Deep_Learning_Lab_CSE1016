{
 "cells": [
  {
   "cell_type": "markdown",
   "metadata": {},
   "source": [
    "### Name: Rakesh Kumar K S\n",
    "### Reg. no: 20BAI1055\n",
    "\n",
    "### Lab assignment 9 - Transformers\n",
    "\n",
    "I'll try to use transformers to predict the sentiment of a given text"
   ]
  },
  {
   "cell_type": "code",
   "execution_count": 2,
   "metadata": {
    "execution": {
     "iopub.execute_input": "2022-11-15T04:38:20.563707Z",
     "iopub.status.busy": "2022-11-15T04:38:20.559328Z",
     "iopub.status.idle": "2022-11-15T04:38:21.509948Z",
     "shell.execute_reply": "2022-11-15T04:38:21.509221Z",
     "shell.execute_reply.started": "2022-11-15T04:38:20.563667Z"
    }
   },
   "outputs": [],
   "source": [
    "import matplotlib.pyplot as plt\n",
    "import seaborn as sns"
   ]
  },
  {
   "cell_type": "code",
   "execution_count": 3,
   "metadata": {
    "_cell_guid": "79c7e3d0-c299-4dcb-8224-4455121ee9b0",
    "_uuid": "d629ff2d2480ee46fbb7e2d37f6b5fab8052498a",
    "execution": {
     "iopub.execute_input": "2022-11-15T04:38:21.513405Z",
     "iopub.status.busy": "2022-11-15T04:38:21.512976Z",
     "iopub.status.idle": "2022-11-15T04:38:21.538707Z",
     "shell.execute_reply": "2022-11-15T04:38:21.538091Z",
     "shell.execute_reply.started": "2022-11-15T04:38:21.513372Z"
    }
   },
   "outputs": [],
   "source": [
    "data = pd.read_csv(\"../input/twitterdata/finalSentimentdata2.csv\")"
   ]
  },
  {
   "cell_type": "code",
   "execution_count": 4,
   "metadata": {
    "execution": {
     "iopub.execute_input": "2022-11-15T04:38:21.540677Z",
     "iopub.status.busy": "2022-11-15T04:38:21.540316Z",
     "iopub.status.idle": "2022-11-15T04:38:21.559273Z",
     "shell.execute_reply": "2022-11-15T04:38:21.558417Z",
     "shell.execute_reply.started": "2022-11-15T04:38:21.540631Z"
    }
   },
   "outputs": [
    {
     "data": {
      "text/html": [
       "<div>\n",
       "<style scoped>\n",
       "    .dataframe tbody tr th:only-of-type {\n",
       "        vertical-align: middle;\n",
       "    }\n",
       "\n",
       "    .dataframe tbody tr th {\n",
       "        vertical-align: top;\n",
       "    }\n",
       "\n",
       "    .dataframe thead th {\n",
       "        text-align: right;\n",
       "    }\n",
       "</style>\n",
       "<table border=\"1\" class=\"dataframe\">\n",
       "  <thead>\n",
       "    <tr style=\"text-align: right;\">\n",
       "      <th></th>\n",
       "      <th>Unnamed: 0</th>\n",
       "      <th>sentiment</th>\n",
       "      <th>text</th>\n",
       "    </tr>\n",
       "  </thead>\n",
       "  <tbody>\n",
       "    <tr>\n",
       "      <th>0</th>\n",
       "      <td>3204</td>\n",
       "      <td>sad</td>\n",
       "      <td>agree the poor in india are treated badly thei...</td>\n",
       "    </tr>\n",
       "    <tr>\n",
       "      <th>1</th>\n",
       "      <td>1431</td>\n",
       "      <td>joy</td>\n",
       "      <td>if only i could have spent the with this cutie...</td>\n",
       "    </tr>\n",
       "    <tr>\n",
       "      <th>2</th>\n",
       "      <td>654</td>\n",
       "      <td>joy</td>\n",
       "      <td>will nature conservation remain a priority in ...</td>\n",
       "    </tr>\n",
       "    <tr>\n",
       "      <th>3</th>\n",
       "      <td>2530</td>\n",
       "      <td>sad</td>\n",
       "      <td>coronavirus disappearing in italy show this to...</td>\n",
       "    </tr>\n",
       "    <tr>\n",
       "      <th>4</th>\n",
       "      <td>2296</td>\n",
       "      <td>sad</td>\n",
       "      <td>uk records lowest daily virus death toll since...</td>\n",
       "    </tr>\n",
       "  </tbody>\n",
       "</table>\n",
       "</div>"
      ],
      "text/plain": [
       "   Unnamed: 0 sentiment                                               text\n",
       "0        3204       sad  agree the poor in india are treated badly thei...\n",
       "1        1431       joy  if only i could have spent the with this cutie...\n",
       "2         654       joy  will nature conservation remain a priority in ...\n",
       "3        2530       sad  coronavirus disappearing in italy show this to...\n",
       "4        2296       sad  uk records lowest daily virus death toll since..."
      ]
     },
     "execution_count": 4,
     "metadata": {},
     "output_type": "execute_result"
    }
   ],
   "source": [
    "data.head()"
   ]
  },
  {
   "cell_type": "code",
   "execution_count": 5,
   "metadata": {
    "execution": {
     "iopub.execute_input": "2022-11-15T04:38:21.563860Z",
     "iopub.status.busy": "2022-11-15T04:38:21.563604Z",
     "iopub.status.idle": "2022-11-15T04:38:21.568903Z",
     "shell.execute_reply": "2022-11-15T04:38:21.568122Z",
     "shell.execute_reply.started": "2022-11-15T04:38:21.563832Z"
    }
   },
   "outputs": [
    {
     "data": {
      "text/plain": [
       "(3090, 3)"
      ]
     },
     "execution_count": 5,
     "metadata": {},
     "output_type": "execute_result"
    }
   ],
   "source": [
    "data.shape"
   ]
  },
  {
   "cell_type": "markdown",
   "metadata": {},
   "source": [
    "Count plot of sentiments,we can see that sad and fear are prevailing which is quite obvious"
   ]
  },
  {
   "cell_type": "code",
   "execution_count": 6,
   "metadata": {
    "execution": {
     "iopub.execute_input": "2022-11-15T04:38:21.572256Z",
     "iopub.status.busy": "2022-11-15T04:38:21.571604Z",
     "iopub.status.idle": "2022-11-15T04:38:21.747984Z",
     "shell.execute_reply": "2022-11-15T04:38:21.747102Z",
     "shell.execute_reply.started": "2022-11-15T04:38:21.572212Z"
    }
   },
   "outputs": [
    {
     "data": {
      "text/plain": [
       "<matplotlib.axes._subplots.AxesSubplot at 0x7f8a63c6db10>"
      ]
     },
     "execution_count": 6,
     "metadata": {},
     "output_type": "execute_result"
    },
    {
     "data": {
      "image/png": "[encoded data removed]",
      "text/plain": [
       "<Figure size 432x288 with 1 Axes>"
      ]
     },
     "metadata": {
      "needs_background": "light"
     },
     "output_type": "display_data"
    }
   ],
   "source": [
    "sns.countplot(data['sentiment'])"
   ]
  },
  {
   "cell_type": "markdown",
   "metadata": {},
   "source": [
    "***Data Preprocessing***"
   ]
  },
  {
   "cell_type": "code",
   "execution_count": 7,
   "metadata": {
    "execution": {
     "iopub.execute_input": "2022-11-15T04:38:21.749811Z",
     "iopub.status.busy": "2022-11-15T04:38:21.749442Z",
     "iopub.status.idle": "2022-11-15T04:38:22.472150Z",
     "shell.execute_reply": "2022-11-15T04:38:22.471337Z",
     "shell.execute_reply.started": "2022-11-15T04:38:21.749773Z"
    }
   },
   "outputs": [],
   "source": [
    "import nltk\n",
    "import re\n",
    "import string"
   ]
  },
  {
   "cell_type": "markdown",
   "metadata": {},
   "source": [
    "A function to clean data it removes all the punctuation marks, urls etc"
   ]
  },
  {
   "cell_type": "code",
   "execution_count": 8,
   "metadata": {
    "execution": {
     "iopub.execute_input": "2022-11-15T04:38:22.473788Z",
     "iopub.status.busy": "2022-11-15T04:38:22.473431Z",
     "iopub.status.idle": "2022-11-15T04:38:22.484504Z",
     "shell.execute_reply": "2022-11-15T04:38:22.483394Z",
     "shell.execute_reply.started": "2022-11-15T04:38:22.473744Z"
    }
   },
   "outputs": [],
   "source": [
    "def clean_text(text):\n",
    "    '''Make text lowercase, remove text in square brackets,remove links,remove punctuation\n",
    "    and remove words containing numbers.'''\n",
    "    text = text.lower()\n",
    "    text = re.sub('\\[.*?\\]', '', text)\n",
    "    text = re.sub('https?://\\S+|www\\.\\S+', '', text)\n",
    "    text = re.sub('<.*?>+', '', text)\n",
    "    text = re.sub('[%s]' % re.escape(string.punctuation), '', text)\n",
    "    text = re.sub('\\n', '', text)\n",
    "    text = re.sub('\\w*\\d\\w*', '', text)\n",
    "    return text"
   ]
  },
  {
   "cell_type": "code",
   "execution_count": 9,
   "metadata": {
    "execution": {
     "iopub.execute_input": "2022-11-15T04:38:22.486724Z",
     "iopub.status.busy": "2022-11-15T04:38:22.486024Z",
     "iopub.status.idle": "2022-11-15T04:38:22.593661Z",
     "shell.execute_reply": "2022-11-15T04:38:22.592775Z",
     "shell.execute_reply.started": "2022-11-15T04:38:22.486606Z"
    }
   },
   "outputs": [],
   "source": [
    "data['text'] = data['text'].apply(lambda x: clean_text(x))"
   ]
  },
  {
   "cell_type": "markdown",
   "metadata": {},
   "source": [
    "Function to remove emoji"
   ]
  },
  {
   "cell_type": "code",
   "execution_count": 10,
   "metadata": {
    "execution": {
     "iopub.execute_input": "2022-11-15T04:38:22.595716Z",
     "iopub.status.busy": "2022-11-15T04:38:22.595300Z",
     "iopub.status.idle": "2022-11-15T04:38:22.601521Z",
     "shell.execute_reply": "2022-11-15T04:38:22.600229Z",
     "shell.execute_reply.started": "2022-11-15T04:38:22.595674Z"
    }
   },
   "outputs": [],
   "source": [
    "def remove_emoji(text):\n",
    "    emoji_pattern = re.compile(\"[\"\n",
    "                           u\"\\U0001F600-\\U0001F64F\"  # emoticons\n",
    "                           u\"\\U0001F300-\\U0001F5FF\"  # symbols & pictographs\n",
    "                           u\"\\U0001F680-\\U0001F6FF\"  # transport & map symbols\n",
    "                           u\"\\U0001F1E0-\\U0001F1FF\"  # flags (iOS)\n",
    "                           u\"\\U00002702-\\U000027B0\"\n",
    "                           u\"\\U000024C2-\\U0001F251\"\n",
    "                           \"]+\", flags=re.UNICODE)\n",
    "    return emoji_pattern.sub(r'', text)"
   ]
  },
  {
   "cell_type": "code",
   "execution_count": 11,
   "metadata": {
    "execution": {
     "iopub.execute_input": "2022-11-15T04:38:22.603751Z",
     "iopub.status.busy": "2022-11-15T04:38:22.603340Z",
     "iopub.status.idle": "2022-11-15T04:38:22.637523Z",
     "shell.execute_reply": "2022-11-15T04:38:22.636669Z",
     "shell.execute_reply.started": "2022-11-15T04:38:22.603711Z"
    }
   },
   "outputs": [],
   "source": [
    "data['text']=data['text'].apply(lambda x: remove_emoji(x))"
   ]
  },
  {
   "cell_type": "markdown",
   "metadata": {},
   "source": [
    "Checking the maximum length of tweet "
   ]
  },
  {
   "cell_type": "code",
   "execution_count": 12,
   "metadata": {
    "execution": {
     "iopub.execute_input": "2022-11-15T04:38:22.640633Z",
     "iopub.status.busy": "2022-11-15T04:38:22.640000Z",
     "iopub.status.idle": "2022-11-15T04:38:22.656293Z",
     "shell.execute_reply": "2022-11-15T04:38:22.655336Z",
     "shell.execute_reply.started": "2022-11-15T04:38:22.640594Z"
    }
   },
   "outputs": [
    {
     "data": {
      "text/plain": [
       "61"
      ]
     },
     "execution_count": 12,
     "metadata": {},
     "output_type": "execute_result"
    }
   ],
   "source": [
    "data['text'].apply(lambda x:len(str(x).split())).max()"
   ]
  },
  {
   "cell_type": "markdown",
   "metadata": {},
   "source": [
    "**Word cloud of 50 most  common words in India**"
   ]
  },
  {
   "cell_type": "code",
   "execution_count": 13,
   "metadata": {
    "execution": {
     "iopub.execute_input": "2022-11-15T04:38:22.658016Z",
     "iopub.status.busy": "2022-11-15T04:38:22.657683Z",
     "iopub.status.idle": "2022-11-15T04:38:22.704770Z",
     "shell.execute_reply": "2022-11-15T04:38:22.704111Z",
     "shell.execute_reply.started": "2022-11-15T04:38:22.657975Z"
    }
   },
   "outputs": [],
   "source": [
    "from wordcloud import WordCloud, STOPWORDS"
   ]
  },
  {
   "cell_type": "code",
   "execution_count": 14,
   "metadata": {
    "execution": {
     "iopub.execute_input": "2022-11-15T04:38:22.707066Z",
     "iopub.status.busy": "2022-11-15T04:38:22.706445Z",
     "iopub.status.idle": "2022-11-15T04:38:23.423945Z",
     "shell.execute_reply": "2022-11-15T04:38:23.422814Z",
     "shell.execute_reply.started": "2022-11-15T04:38:22.707025Z"
    }
   },
   "outputs": [
    {
     "data": {
      "image/png": "[encoded data removed]",
      "text/plain": [
       "<Figure size 720x720 with 1 Axes>"
      ]
     },
     "metadata": {
      "needs_background": "light"
     },
     "output_type": "display_data"
    }
   ],
   "source": [
    " word_cloud = WordCloud(\n",
    "                    background_color='white',\n",
    "                    stopwords=set(STOPWORDS),\n",
    "                    max_words=50,\n",
    "                    max_font_size=40,\n",
    "                    scale=5,\n",
    "                    random_state=1).generate(str(data['text']))\n",
    "fig = plt.figure(1, figsize=(10,10))\n",
    "plt.axis('off')\n",
    "fig.suptitle('Word Cloud for top 50 prevelant words in India', fontsize=20)\n",
    "fig.subplots_adjust(top=2.3)\n",
    "plt.imshow(word_cloud)\n",
    "plt.show()"
   ]
  },
  {
   "cell_type": "markdown",
   "metadata": {},
   "source": [
    "Let's  label encode the sentiments"
   ]
  },
  {
   "cell_type": "code",
   "execution_count": 15,
   "metadata": {
    "execution": {
     "iopub.execute_input": "2022-11-15T04:38:23.425741Z",
     "iopub.status.busy": "2022-11-15T04:38:23.425367Z",
     "iopub.status.idle": "2022-11-15T04:38:23.431336Z",
     "shell.execute_reply": "2022-11-15T04:38:23.430140Z",
     "shell.execute_reply.started": "2022-11-15T04:38:23.425697Z"
    }
   },
   "outputs": [],
   "source": [
    "from sklearn.preprocessing import LabelEncoder\n",
    "lb= LabelEncoder()"
   ]
  },
  {
   "cell_type": "code",
   "execution_count": 16,
   "metadata": {
    "execution": {
     "iopub.execute_input": "2022-11-15T04:38:23.433962Z",
     "iopub.status.busy": "2022-11-15T04:38:23.433218Z",
     "iopub.status.idle": "2022-11-15T04:38:23.447020Z",
     "shell.execute_reply": "2022-11-15T04:38:23.445834Z",
     "shell.execute_reply.started": "2022-11-15T04:38:23.433916Z"
    }
   },
   "outputs": [
    {
     "data": {
      "text/plain": [
       "LabelEncoder()"
      ]
     },
     "execution_count": 16,
     "metadata": {},
     "output_type": "execute_result"
    }
   ],
   "source": [
    "lb.fit(data['sentiment'])"
   ]
  },
  {
   "cell_type": "code",
   "execution_count": 17,
   "metadata": {
    "execution": {
     "iopub.execute_input": "2022-11-15T04:38:23.449437Z",
     "iopub.status.busy": "2022-11-15T04:38:23.448594Z",
     "iopub.status.idle": "2022-11-15T04:38:23.453948Z",
     "shell.execute_reply": "2022-11-15T04:38:23.453028Z",
     "shell.execute_reply.started": "2022-11-15T04:38:23.449393Z"
    }
   },
   "outputs": [],
   "source": [
    "classes= list(lb.classes_)"
   ]
  },
  {
   "cell_type": "code",
   "execution_count": 18,
   "metadata": {
    "execution": {
     "iopub.execute_input": "2022-11-15T04:38:23.456228Z",
     "iopub.status.busy": "2022-11-15T04:38:23.455640Z",
     "iopub.status.idle": "2022-11-15T04:38:23.466432Z",
     "shell.execute_reply": "2022-11-15T04:38:23.465710Z",
     "shell.execute_reply.started": "2022-11-15T04:38:23.456176Z"
    }
   },
   "outputs": [
    {
     "data": {
      "text/plain": [
       "['anger', 'fear', 'joy', 'sad']"
      ]
     },
     "execution_count": 18,
     "metadata": {},
     "output_type": "execute_result"
    }
   ],
   "source": [
    "classes"
   ]
  },
  {
   "cell_type": "code",
   "execution_count": 19,
   "metadata": {
    "execution": {
     "iopub.execute_input": "2022-11-15T04:38:23.468415Z",
     "iopub.status.busy": "2022-11-15T04:38:23.467707Z",
     "iopub.status.idle": "2022-11-15T04:38:23.475989Z",
     "shell.execute_reply": "2022-11-15T04:38:23.475110Z",
     "shell.execute_reply.started": "2022-11-15T04:38:23.468374Z"
    }
   },
   "outputs": [],
   "source": [
    "data['sentiment']= lb.fit_transform(data['sentiment'])"
   ]
  },
  {
   "cell_type": "markdown",
   "metadata": {},
   "source": [
    "So basically the encoding is anger-0.fear-1,joy-2,sad-3"
   ]
  },
  {
   "cell_type": "code",
   "execution_count": 20,
   "metadata": {
    "execution": {
     "iopub.execute_input": "2022-11-15T04:38:23.478308Z",
     "iopub.status.busy": "2022-11-15T04:38:23.477469Z",
     "iopub.status.idle": "2022-11-15T04:38:23.490879Z",
     "shell.execute_reply": "2022-11-15T04:38:23.489896Z",
     "shell.execute_reply.started": "2022-11-15T04:38:23.478265Z"
    }
   },
   "outputs": [
    {
     "data": {
      "text/html": [
       "<div>\n",
       "<style scoped>\n",
       "    .dataframe tbody tr th:only-of-type {\n",
       "        vertical-align: middle;\n",
       "    }\n",
       "\n",
       "    .dataframe tbody tr th {\n",
       "        vertical-align: top;\n",
       "    }\n",
       "\n",
       "    .dataframe thead th {\n",
       "        text-align: right;\n",
       "    }\n",
       "</style>\n",
       "<table border=\"1\" class=\"dataframe\">\n",
       "  <thead>\n",
       "    <tr style=\"text-align: right;\">\n",
       "      <th></th>\n",
       "      <th>Unnamed: 0</th>\n",
       "      <th>sentiment</th>\n",
       "      <th>text</th>\n",
       "    </tr>\n",
       "  </thead>\n",
       "  <tbody>\n",
       "    <tr>\n",
       "      <th>0</th>\n",
       "      <td>3204</td>\n",
       "      <td>3</td>\n",
       "      <td>agree the poor in india are treated badly thei...</td>\n",
       "    </tr>\n",
       "    <tr>\n",
       "      <th>1</th>\n",
       "      <td>1431</td>\n",
       "      <td>2</td>\n",
       "      <td>if only i could have spent the with this cutie...</td>\n",
       "    </tr>\n",
       "    <tr>\n",
       "      <th>2</th>\n",
       "      <td>654</td>\n",
       "      <td>2</td>\n",
       "      <td>will nature conservation remain a priority in ...</td>\n",
       "    </tr>\n",
       "    <tr>\n",
       "      <th>3</th>\n",
       "      <td>2530</td>\n",
       "      <td>3</td>\n",
       "      <td>coronavirus disappearing in italy show this to...</td>\n",
       "    </tr>\n",
       "    <tr>\n",
       "      <th>4</th>\n",
       "      <td>2296</td>\n",
       "      <td>3</td>\n",
       "      <td>uk records lowest daily virus death toll since...</td>\n",
       "    </tr>\n",
       "  </tbody>\n",
       "</table>\n",
       "</div>"
      ],
      "text/plain": [
       "   Unnamed: 0  sentiment                                               text\n",
       "0        3204          3  agree the poor in india are treated badly thei...\n",
       "1        1431          2  if only i could have spent the with this cutie...\n",
       "2         654          2  will nature conservation remain a priority in ...\n",
       "3        2530          3  coronavirus disappearing in italy show this to...\n",
       "4        2296          3  uk records lowest daily virus death toll since..."
      ]
     },
     "execution_count": 20,
     "metadata": {},
     "output_type": "execute_result"
    }
   ],
   "source": [
    "data.head()"
   ]
  },
  {
   "cell_type": "code",
   "execution_count": 21,
   "metadata": {
    "execution": {
     "iopub.execute_input": "2022-11-15T04:38:23.493446Z",
     "iopub.status.busy": "2022-11-15T04:38:23.492813Z",
     "iopub.status.idle": "2022-11-15T04:38:24.913150Z",
     "shell.execute_reply": "2022-11-15T04:38:24.912074Z",
     "shell.execute_reply.started": "2022-11-15T04:38:23.493405Z"
    }
   },
   "outputs": [],
   "source": [
    "import torch\n",
    "import torch.nn as nn"
   ]
  },
  {
   "cell_type": "code",
   "execution_count": 22,
   "metadata": {
    "execution": {
     "iopub.execute_input": "2022-11-15T04:38:24.915039Z",
     "iopub.status.busy": "2022-11-15T04:38:24.914671Z",
     "iopub.status.idle": "2022-11-15T04:38:31.217898Z",
     "shell.execute_reply": "2022-11-15T04:38:31.216965Z",
     "shell.execute_reply.started": "2022-11-15T04:38:24.914968Z"
    }
   },
   "outputs": [
    {
     "name": "stderr",
     "output_type": "stream",
     "text": [
      "\u001b[34m\u001b[1mwandb\u001b[0m: \u001b[33mWARNING\u001b[0m W&B installed but not logged in.  Run `wandb login` or set the WANDB_API_KEY env variable.\n"
     ]
    }
   ],
   "source": [
    "#importing transformers\n",
    "import transformers\n",
    "from transformers import BertModel, BertTokenizer, AdamW, get_linear_schedule_with_warmup\n",
    "from torch.utils.data import Dataset, DataLoader"
   ]
  },
  {
   "cell_type": "code",
   "execution_count": 23,
   "metadata": {
    "execution": {
     "iopub.execute_input": "2022-11-15T04:38:31.220137Z",
     "iopub.status.busy": "2022-11-15T04:38:31.219691Z",
     "iopub.status.idle": "2022-11-15T04:38:31.230158Z",
     "shell.execute_reply": "2022-11-15T04:38:31.229247Z",
     "shell.execute_reply.started": "2022-11-15T04:38:31.220094Z"
    }
   },
   "outputs": [
    {
     "data": {
      "text/plain": [
       "<torch._C.Generator at 0x7f8a5c0616d0>"
      ]
     },
     "execution_count": 23,
     "metadata": {},
     "output_type": "execute_result"
    }
   ],
   "source": [
    "RANDOM_SEED = 42\n",
    "np.random.seed(RANDOM_SEED)\n",
    "torch.manual_seed(RANDOM_SEED)"
   ]
  },
  {
   "cell_type": "code",
   "execution_count": 24,
   "metadata": {
    "execution": {
     "iopub.execute_input": "2022-11-15T04:38:31.231970Z",
     "iopub.status.busy": "2022-11-15T04:38:31.231568Z",
     "iopub.status.idle": "2022-11-15T04:38:31.346401Z",
     "shell.execute_reply": "2022-11-15T04:38:31.345396Z",
     "shell.execute_reply.started": "2022-11-15T04:38:31.231923Z"
    }
   },
   "outputs": [],
   "source": [
    "#setting device to GPU\n",
    "device = torch.device(\"cuda:0\" if torch.cuda.is_available() else \"cpu\")"
   ]
  },
  {
   "cell_type": "code",
   "execution_count": 25,
   "metadata": {
    "execution": {
     "iopub.execute_input": "2022-11-15T04:38:31.348106Z",
     "iopub.status.busy": "2022-11-15T04:38:31.347729Z",
     "iopub.status.idle": "2022-11-15T04:38:31.363689Z",
     "shell.execute_reply": "2022-11-15T04:38:31.362605Z",
     "shell.execute_reply.started": "2022-11-15T04:38:31.348062Z"
    }
   },
   "outputs": [
    {
     "data": {
      "text/plain": [
       "device(type='cuda', index=0)"
      ]
     },
     "execution_count": 25,
     "metadata": {},
     "output_type": "execute_result"
    }
   ],
   "source": [
    "device"
   ]
  },
  {
   "cell_type": "code",
   "execution_count": 26,
   "metadata": {
    "execution": {
     "iopub.execute_input": "2022-11-15T04:38:31.365915Z",
     "iopub.status.busy": "2022-11-15T04:38:31.365265Z",
     "iopub.status.idle": "2022-11-15T04:38:31.373846Z",
     "shell.execute_reply": "2022-11-15T04:38:31.372922Z",
     "shell.execute_reply.started": "2022-11-15T04:38:31.365876Z"
    }
   },
   "outputs": [],
   "source": [
    "PRE_TRAINED_MODEL_NAME = '../input/bert-base-uncased'"
   ]
  },
  {
   "cell_type": "code",
   "execution_count": 27,
   "metadata": {
    "execution": {
     "iopub.execute_input": "2022-11-15T04:38:31.375993Z",
     "iopub.status.busy": "2022-11-15T04:38:31.375363Z",
     "iopub.status.idle": "2022-11-15T04:38:31.431338Z",
     "shell.execute_reply": "2022-11-15T04:38:31.430594Z",
     "shell.execute_reply.started": "2022-11-15T04:38:31.375955Z"
    }
   },
   "outputs": [],
   "source": [
    "tokenizer = BertTokenizer.from_pretrained(PRE_TRAINED_MODEL_NAME)"
   ]
  },
  {
   "cell_type": "code",
   "execution_count": 28,
   "metadata": {
    "execution": {
     "iopub.execute_input": "2022-11-15T04:38:31.433188Z",
     "iopub.status.busy": "2022-11-15T04:38:31.432719Z",
     "iopub.status.idle": "2022-11-15T04:38:31.436960Z",
     "shell.execute_reply": "2022-11-15T04:38:31.436112Z",
     "shell.execute_reply.started": "2022-11-15T04:38:31.433153Z"
    }
   },
   "outputs": [],
   "source": [
    "sample_txt = 'These are tough times we must stand together'"
   ]
  },
  {
   "cell_type": "code",
   "execution_count": 29,
   "metadata": {
    "execution": {
     "iopub.execute_input": "2022-11-15T04:38:31.438910Z",
     "iopub.status.busy": "2022-11-15T04:38:31.438390Z",
     "iopub.status.idle": "2022-11-15T04:38:31.451685Z",
     "shell.execute_reply": "2022-11-15T04:38:31.451046Z",
     "shell.execute_reply.started": "2022-11-15T04:38:31.438871Z"
    }
   },
   "outputs": [
    {
     "name": "stdout",
     "output_type": "stream",
     "text": [
      " Sentence: These are tough times we must stand together\n",
      "   Tokens: ['these', 'are', 'tough', 'times', 'we', 'must', 'stand', 'together']\n",
      "Token IDs: [2122, 2024, 7823, 2335, 2057, 2442, 3233, 2362]\n"
     ]
    }
   ],
   "source": [
    "tokens = tokenizer.tokenize(sample_txt)\n",
    "token_ids = tokenizer.convert_tokens_to_ids(tokens)\n",
    "print(f' Sentence: {sample_txt}')\n",
    "print(f'   Tokens: {tokens}')\n",
    "print(f'Token IDs: {token_ids}')"
   ]
  },
  {
   "cell_type": "code",
   "execution_count": 30,
   "metadata": {
    "execution": {
     "iopub.execute_input": "2022-11-15T04:38:31.454897Z",
     "iopub.status.busy": "2022-11-15T04:38:31.454606Z",
     "iopub.status.idle": "2022-11-15T04:38:31.471985Z",
     "shell.execute_reply": "2022-11-15T04:38:31.471233Z",
     "shell.execute_reply.started": "2022-11-15T04:38:31.454869Z"
    }
   },
   "outputs": [
    {
     "data": {
      "text/plain": [
       "dict_keys(['input_ids', 'attention_mask'])"
      ]
     },
     "execution_count": 30,
     "metadata": {},
     "output_type": "execute_result"
    }
   ],
   "source": [
    "encoding = tokenizer.encode_plus(\n",
    "  sample_txt,\n",
    "  max_length=32,\n",
    "  add_special_tokens=True, # Add '[CLS]' and '[SEP]'\n",
    "  return_token_type_ids=False,\n",
    "  pad_to_max_length=True,\n",
    "  return_attention_mask=True,\n",
    "  return_tensors='pt',  # Return PyTorch tensors\n",
    ")\n",
    "encoding.keys()\n"
   ]
  },
  {
   "cell_type": "markdown",
   "metadata": {},
   "source": [
    "### Choosing Sequence Length for BERT, as it requires fixed sequence length"
   ]
  },
  {
   "cell_type": "code",
   "execution_count": 31,
   "metadata": {
    "execution": {
     "iopub.execute_input": "2022-11-15T04:38:31.475376Z",
     "iopub.status.busy": "2022-11-15T04:38:31.475103Z",
     "iopub.status.idle": "2022-11-15T04:38:33.280601Z",
     "shell.execute_reply": "2022-11-15T04:38:33.279575Z",
     "shell.execute_reply.started": "2022-11-15T04:38:31.475339Z"
    }
   },
   "outputs": [],
   "source": [
    "token_lens = []\n",
    "for txt in data.text:\n",
    "    \n",
    "    tokens = tokenizer.encode(txt, max_length=512)\n",
    "    token_lens.append(len(tokens))"
   ]
  },
  {
   "cell_type": "code",
   "execution_count": 32,
   "metadata": {
    "execution": {
     "iopub.execute_input": "2022-11-15T04:38:33.287500Z",
     "iopub.status.busy": "2022-11-15T04:38:33.287239Z",
     "iopub.status.idle": "2022-11-15T04:38:33.473369Z",
     "shell.execute_reply": "2022-11-15T04:38:33.472304Z",
     "shell.execute_reply.started": "2022-11-15T04:38:33.287474Z"
    }
   },
   "outputs": [
    {
     "data": {
      "text/plain": [
       "Text(0.5, 0, 'Token count')"
      ]
     },
     "execution_count": 32,
     "metadata": {},
     "output_type": "execute_result"
    },
    {
     "data": {
      "image/png": "[encoded data removed]",
      "text/plain": [
       "<Figure size 432x288 with 1 Axes>"
      ]
     },
     "metadata": {
      "needs_background": "light"
     },
     "output_type": "display_data"
    }
   ],
   "source": [
    "sns.distplot(token_lens)\n",
    "plt.xlim([0, 256]);\n",
    "plt.xlabel('Token count')"
   ]
  },
  {
   "cell_type": "markdown",
   "metadata": {},
   "source": [
    "Most of the tweets contain less than 100 tokens but we'll be on the safe side and consider maximum length 100"
   ]
  },
  {
   "cell_type": "code",
   "execution_count": 33,
   "metadata": {
    "execution": {
     "iopub.execute_input": "2022-11-15T04:38:33.475317Z",
     "iopub.status.busy": "2022-11-15T04:38:33.474900Z",
     "iopub.status.idle": "2022-11-15T04:38:33.479604Z",
     "shell.execute_reply": "2022-11-15T04:38:33.478633Z",
     "shell.execute_reply.started": "2022-11-15T04:38:33.475275Z"
    }
   },
   "outputs": [],
   "source": [
    "MAX_LEN=100"
   ]
  },
  {
   "cell_type": "markdown",
   "metadata": {},
   "source": [
    "# Let us create our dataset..."
   ]
  },
  {
   "cell_type": "code",
   "execution_count": 34,
   "metadata": {
    "execution": {
     "iopub.execute_input": "2022-11-15T04:38:33.482182Z",
     "iopub.status.busy": "2022-11-15T04:38:33.481723Z",
     "iopub.status.idle": "2022-11-15T04:38:33.493725Z",
     "shell.execute_reply": "2022-11-15T04:38:33.492247Z",
     "shell.execute_reply.started": "2022-11-15T04:38:33.482143Z"
    }
   },
   "outputs": [],
   "source": [
    "class Covid19Tweet(Dataset):\n",
    "    \n",
    "    def __init__(self, tweets, sentiment, tokenizer, max_len):\n",
    "        \n",
    "        \n",
    "        self.tweets = tweets\n",
    "        self.sentiment = sentiment\n",
    "        self.tokenizer = tokenizer\n",
    "        self.max_len = max_len\n",
    "    def __len__(self):\n",
    "        return len(self.tweets)\n",
    "    def __getitem__(self, item):\n",
    "        \n",
    "        tweets = str(self.tweets[item])\n",
    "        sentiment = self.sentiment[item]\n",
    "        encoding = self.tokenizer.encode_plus(\n",
    "        tweets,\n",
    "        add_special_tokens=True,\n",
    "        max_length=self.max_len,\n",
    "        return_token_type_ids=False,\n",
    "        pad_to_max_length=True,\n",
    "        return_attention_mask=True,\n",
    "        return_tensors='pt')\n",
    "        return {\n",
    "        'tweet_text': tweets,\n",
    "         'input_ids': encoding['input_ids'].flatten(),\n",
    "         'attention_mask': encoding['attention_mask'].flatten(),\n",
    "         'sentiments': torch.tensor(sentiment, dtype=torch.long)\n",
    "          }"
   ]
  },
  {
   "cell_type": "code",
   "execution_count": 35,
   "metadata": {
    "execution": {
     "iopub.execute_input": "2022-11-15T04:38:33.496045Z",
     "iopub.status.busy": "2022-11-15T04:38:33.495571Z",
     "iopub.status.idle": "2022-11-15T04:38:33.510744Z",
     "shell.execute_reply": "2022-11-15T04:38:33.509882Z",
     "shell.execute_reply.started": "2022-11-15T04:38:33.495969Z"
    }
   },
   "outputs": [
    {
     "data": {
      "text/html": [
       "<div>\n",
       "<style scoped>\n",
       "    .dataframe tbody tr th:only-of-type {\n",
       "        vertical-align: middle;\n",
       "    }\n",
       "\n",
       "    .dataframe tbody tr th {\n",
       "        vertical-align: top;\n",
       "    }\n",
       "\n",
       "    .dataframe thead th {\n",
       "        text-align: right;\n",
       "    }\n",
       "</style>\n",
       "<table border=\"1\" class=\"dataframe\">\n",
       "  <thead>\n",
       "    <tr style=\"text-align: right;\">\n",
       "      <th></th>\n",
       "      <th>Unnamed: 0</th>\n",
       "      <th>sentiment</th>\n",
       "      <th>text</th>\n",
       "    </tr>\n",
       "  </thead>\n",
       "  <tbody>\n",
       "    <tr>\n",
       "      <th>0</th>\n",
       "      <td>3204</td>\n",
       "      <td>3</td>\n",
       "      <td>agree the poor in india are treated badly thei...</td>\n",
       "    </tr>\n",
       "    <tr>\n",
       "      <th>1</th>\n",
       "      <td>1431</td>\n",
       "      <td>2</td>\n",
       "      <td>if only i could have spent the with this cutie...</td>\n",
       "    </tr>\n",
       "    <tr>\n",
       "      <th>2</th>\n",
       "      <td>654</td>\n",
       "      <td>2</td>\n",
       "      <td>will nature conservation remain a priority in ...</td>\n",
       "    </tr>\n",
       "    <tr>\n",
       "      <th>3</th>\n",
       "      <td>2530</td>\n",
       "      <td>3</td>\n",
       "      <td>coronavirus disappearing in italy show this to...</td>\n",
       "    </tr>\n",
       "    <tr>\n",
       "      <th>4</th>\n",
       "      <td>2296</td>\n",
       "      <td>3</td>\n",
       "      <td>uk records lowest daily virus death toll since...</td>\n",
       "    </tr>\n",
       "  </tbody>\n",
       "</table>\n",
       "</div>"
      ],
      "text/plain": [
       "   Unnamed: 0  sentiment                                               text\n",
       "0        3204          3  agree the poor in india are treated badly thei...\n",
       "1        1431          2  if only i could have spent the with this cutie...\n",
       "2         654          2  will nature conservation remain a priority in ...\n",
       "3        2530          3  coronavirus disappearing in italy show this to...\n",
       "4        2296          3  uk records lowest daily virus death toll since..."
      ]
     },
     "execution_count": 35,
     "metadata": {},
     "output_type": "execute_result"
    }
   ],
   "source": [
    "data.head()"
   ]
  },
  {
   "cell_type": "code",
   "execution_count": 36,
   "metadata": {
    "execution": {
     "iopub.execute_input": "2022-11-15T04:38:33.513242Z",
     "iopub.status.busy": "2022-11-15T04:38:33.512721Z",
     "iopub.status.idle": "2022-11-15T04:38:33.522548Z",
     "shell.execute_reply": "2022-11-15T04:38:33.521074Z",
     "shell.execute_reply.started": "2022-11-15T04:38:33.513140Z"
    }
   },
   "outputs": [],
   "source": [
    "from sklearn.model_selection import train_test_split"
   ]
  },
  {
   "cell_type": "code",
   "execution_count": 37,
   "metadata": {
    "execution": {
     "iopub.execute_input": "2022-11-15T04:38:33.524803Z",
     "iopub.status.busy": "2022-11-15T04:38:33.524430Z",
     "iopub.status.idle": "2022-11-15T04:38:33.536613Z",
     "shell.execute_reply": "2022-11-15T04:38:33.535726Z",
     "shell.execute_reply.started": "2022-11-15T04:38:33.524775Z"
    }
   },
   "outputs": [],
   "source": [
    "train, val = train_test_split(\n",
    "  data,\n",
    "  test_size=0.1,\n",
    "  random_state=RANDOM_SEED\n",
    ")"
   ]
  },
  {
   "cell_type": "code",
   "execution_count": 38,
   "metadata": {
    "execution": {
     "iopub.execute_input": "2022-11-15T04:38:33.540195Z",
     "iopub.status.busy": "2022-11-15T04:38:33.539868Z",
     "iopub.status.idle": "2022-11-15T04:38:33.546504Z",
     "shell.execute_reply": "2022-11-15T04:38:33.545563Z",
     "shell.execute_reply.started": "2022-11-15T04:38:33.540165Z"
    }
   },
   "outputs": [
    {
     "data": {
      "text/plain": [
       "((2781, 3), (309, 3))"
      ]
     },
     "execution_count": 38,
     "metadata": {},
     "output_type": "execute_result"
    }
   ],
   "source": [
    "train.shape,val.shape"
   ]
  },
  {
   "cell_type": "markdown",
   "metadata": {},
   "source": [
    "Dataloader:-\n",
    "converts data to be fed into classifier"
   ]
  },
  {
   "cell_type": "code",
   "execution_count": 39,
   "metadata": {
    "execution": {
     "iopub.execute_input": "2022-11-15T04:38:33.548598Z",
     "iopub.status.busy": "2022-11-15T04:38:33.548049Z",
     "iopub.status.idle": "2022-11-15T04:38:33.557119Z",
     "shell.execute_reply": "2022-11-15T04:38:33.556379Z",
     "shell.execute_reply.started": "2022-11-15T04:38:33.548560Z"
    }
   },
   "outputs": [],
   "source": [
    "def create_data_loader(data, tokenizer, max_len, batch_size):\n",
    "    \n",
    "    ds = Covid19Tweet(tweets=data.text.to_numpy(),\n",
    "    sentiment=data.sentiment.to_numpy(),\n",
    "    tokenizer=tokenizer,\n",
    "    max_len=max_len)\n",
    "    return DataLoader(\n",
    "    ds,\n",
    "    batch_size=batch_size,\n",
    "    num_workers=4)\n",
    "BATCH_SIZE = 32\n",
    "train_data_loader = create_data_loader(train, tokenizer, MAX_LEN, BATCH_SIZE)\n",
    "val_data_loader = create_data_loader(val, tokenizer, MAX_LEN, BATCH_SIZE)\n"
   ]
  },
  {
   "cell_type": "code",
   "execution_count": 40,
   "metadata": {
    "execution": {
     "iopub.execute_input": "2022-11-15T04:38:33.560737Z",
     "iopub.status.busy": "2022-11-15T04:38:33.560316Z",
     "iopub.status.idle": "2022-11-15T04:38:33.827770Z",
     "shell.execute_reply": "2022-11-15T04:38:33.826873Z",
     "shell.execute_reply.started": "2022-11-15T04:38:33.560696Z"
    }
   },
   "outputs": [
    {
     "data": {
      "text/plain": [
       "dict_keys(['tweet_text', 'input_ids', 'attention_mask', 'sentiments'])"
      ]
     },
     "execution_count": 40,
     "metadata": {},
     "output_type": "execute_result"
    }
   ],
   "source": [
    "df = next(iter(train_data_loader))\n",
    "df.keys()\n"
   ]
  },
  {
   "cell_type": "code",
   "execution_count": 41,
   "metadata": {
    "execution": {
     "iopub.execute_input": "2022-11-15T04:38:33.829844Z",
     "iopub.status.busy": "2022-11-15T04:38:33.829429Z",
     "iopub.status.idle": "2022-11-15T04:38:33.836576Z",
     "shell.execute_reply": "2022-11-15T04:38:33.835646Z",
     "shell.execute_reply.started": "2022-11-15T04:38:33.829798Z"
    }
   },
   "outputs": [
    {
     "name": "stdout",
     "output_type": "stream",
     "text": [
      "torch.Size([32, 100])\n",
      "torch.Size([32, 100])\n",
      "torch.Size([32])\n"
     ]
    }
   ],
   "source": [
    "print(df['input_ids'].shape)\n",
    "print(df['attention_mask'].shape)\n",
    "print(df['sentiments'].shape)"
   ]
  },
  {
   "cell_type": "markdown",
   "metadata": {},
   "source": [
    "# BERT MODEL\n",
    "First we'll define model from pre trained Bert model,\n",
    "Next we'll  define a class named Sentiment classifier\n"
   ]
  },
  {
   "cell_type": "code",
   "execution_count": 42,
   "metadata": {
    "execution": {
     "iopub.execute_input": "2022-11-15T04:38:33.838661Z",
     "iopub.status.busy": "2022-11-15T04:38:33.838036Z",
     "iopub.status.idle": "2022-11-15T04:38:41.773290Z",
     "shell.execute_reply": "2022-11-15T04:38:41.772470Z",
     "shell.execute_reply.started": "2022-11-15T04:38:33.838608Z"
    }
   },
   "outputs": [],
   "source": [
    "bert_model = BertModel.from_pretrained(PRE_TRAINED_MODEL_NAME)"
   ]
  },
  {
   "cell_type": "code",
   "execution_count": 43,
   "metadata": {
    "execution": {
     "iopub.execute_input": "2022-11-15T04:38:41.774951Z",
     "iopub.status.busy": "2022-11-15T04:38:41.774605Z",
     "iopub.status.idle": "2022-11-15T04:38:41.781508Z",
     "shell.execute_reply": "2022-11-15T04:38:41.780707Z",
     "shell.execute_reply.started": "2022-11-15T04:38:41.774908Z"
    }
   },
   "outputs": [],
   "source": [
    "class SentimentClassifier(nn.Module):\n",
    "    \n",
    "    def __init__(self, n_classes):\n",
    "        \n",
    "        super(SentimentClassifier, self).__init__()\n",
    "        self.bert = BertModel.from_pretrained(PRE_TRAINED_MODEL_NAME)\n",
    "        self.drop = nn.Dropout(p=0.3)\n",
    "        self.out = nn.Linear(self.bert.config.hidden_size, n_classes)\n",
    "    def forward(self, input_ids, attention_mask):\n",
    "        \n",
    "        _, pooled_output = self.bert(\n",
    "        input_ids=input_ids,\n",
    "        attention_mask=attention_mask\n",
    "    )\n",
    "        output = self.drop(pooled_output)\n",
    "        return self.out(output)"
   ]
  },
  {
   "cell_type": "code",
   "execution_count": 44,
   "metadata": {
    "execution": {
     "iopub.execute_input": "2022-11-15T04:38:41.783771Z",
     "iopub.status.busy": "2022-11-15T04:38:41.783203Z",
     "iopub.status.idle": "2022-11-15T04:38:41.794848Z",
     "shell.execute_reply": "2022-11-15T04:38:41.794088Z",
     "shell.execute_reply.started": "2022-11-15T04:38:41.783720Z"
    }
   },
   "outputs": [],
   "source": [
    "n_classes= 4"
   ]
  },
  {
   "cell_type": "markdown",
   "metadata": {},
   "source": [
    "Let’s create an instance and move it to the GPU"
   ]
  },
  {
   "cell_type": "code",
   "execution_count": 45,
   "metadata": {
    "execution": {
     "iopub.execute_input": "2022-11-15T04:38:41.797334Z",
     "iopub.status.busy": "2022-11-15T04:38:41.796816Z",
     "iopub.status.idle": "2022-11-15T04:38:50.548411Z",
     "shell.execute_reply": "2022-11-15T04:38:50.547428Z",
     "shell.execute_reply.started": "2022-11-15T04:38:41.797297Z"
    }
   },
   "outputs": [],
   "source": [
    "model = SentimentClassifier(n_classes)\n",
    "model = model.to(device)"
   ]
  },
  {
   "cell_type": "code",
   "execution_count": 46,
   "metadata": {
    "execution": {
     "iopub.execute_input": "2022-11-15T04:38:50.550155Z",
     "iopub.status.busy": "2022-11-15T04:38:50.549768Z",
     "iopub.status.idle": "2022-11-15T04:38:50.554779Z",
     "shell.execute_reply": "2022-11-15T04:38:50.553721Z",
     "shell.execute_reply.started": "2022-11-15T04:38:50.550107Z"
    }
   },
   "outputs": [],
   "source": [
    "input_ids = df['input_ids'].to(device)\n",
    "attention_mask = df['attention_mask'].to(device)"
   ]
  },
  {
   "cell_type": "code",
   "execution_count": 47,
   "metadata": {
    "execution": {
     "iopub.execute_input": "2022-11-15T04:38:50.556655Z",
     "iopub.status.busy": "2022-11-15T04:38:50.556130Z",
     "iopub.status.idle": "2022-11-15T04:38:50.569303Z",
     "shell.execute_reply": "2022-11-15T04:38:50.568304Z",
     "shell.execute_reply.started": "2022-11-15T04:38:50.556609Z"
    }
   },
   "outputs": [
    {
     "name": "stdout",
     "output_type": "stream",
     "text": [
      "torch.Size([32, 100])\n",
      "torch.Size([32, 100])\n"
     ]
    }
   ],
   "source": [
    "print(input_ids.shape) # batch size x seq length\n",
    "print(attention_mask.shape)"
   ]
  },
  {
   "cell_type": "markdown",
   "metadata": {},
   "source": [
    "To get the predicted probabilities from our trained model, we’ll apply the softmax function to the outputs"
   ]
  },
  {
   "cell_type": "code",
   "execution_count": 48,
   "metadata": {
    "execution": {
     "iopub.execute_input": "2022-11-15T04:38:50.570803Z",
     "iopub.status.busy": "2022-11-15T04:38:50.570414Z",
     "iopub.status.idle": "2022-11-15T04:38:50.578492Z",
     "shell.execute_reply": "2022-11-15T04:38:50.577621Z",
     "shell.execute_reply.started": "2022-11-15T04:38:50.570755Z"
    }
   },
   "outputs": [],
   "source": [
    "import torch.nn.functional as F"
   ]
  },
  {
   "cell_type": "code",
   "execution_count": 49,
   "metadata": {
    "execution": {
     "iopub.execute_input": "2022-11-15T04:38:50.580331Z",
     "iopub.status.busy": "2022-11-15T04:38:50.579848Z",
     "iopub.status.idle": "2022-11-15T04:38:51.691487Z",
     "shell.execute_reply": "2022-11-15T04:38:51.690485Z",
     "shell.execute_reply.started": "2022-11-15T04:38:50.580284Z"
    }
   },
   "outputs": [
    {
     "data": {
      "text/plain": [
       "tensor([[0.4346, 0.2465, 0.1809, 0.1380],\n",
       "        [0.3491, 0.2056, 0.3360, 0.1094],\n",
       "        [0.3056, 0.2536, 0.3020, 0.1388],\n",
       "        [0.3302, 0.2127, 0.3160, 0.1410],\n",
       "        [0.3587, 0.2887, 0.1596, 0.1931],\n",
       "        [0.3295, 0.2111, 0.3218, 0.1376],\n",
       "        [0.3749, 0.2282, 0.2473, 0.1496],\n",
       "        [0.3513, 0.2755, 0.2862, 0.0870],\n",
       "        [0.3382, 0.1882, 0.3660, 0.1076],\n",
       "        [0.3062, 0.2337, 0.3601, 0.1000],\n",
       "        [0.3295, 0.2255, 0.3144, 0.1306],\n",
       "        [0.3656, 0.1865, 0.3250, 0.1229],\n",
       "        [0.2592, 0.2959, 0.2790, 0.1659],\n",
       "        [0.2695, 0.2025, 0.4101, 0.1179],\n",
       "        [0.2955, 0.2481, 0.3133, 0.1431],\n",
       "        [0.3532, 0.1771, 0.3217, 0.1480],\n",
       "        [0.3492, 0.2072, 0.3250, 0.1186],\n",
       "        [0.3581, 0.3022, 0.2577, 0.0820],\n",
       "        [0.4400, 0.2371, 0.2125, 0.1104],\n",
       "        [0.3305, 0.1988, 0.3169, 0.1539],\n",
       "        [0.3307, 0.2019, 0.3632, 0.1042],\n",
       "        [0.3070, 0.3642, 0.1702, 0.1586],\n",
       "        [0.3048, 0.2477, 0.3156, 0.1319],\n",
       "        [0.3710, 0.2118, 0.2290, 0.1882],\n",
       "        [0.2529, 0.2650, 0.3968, 0.0853],\n",
       "        [0.3131, 0.3014, 0.2274, 0.1581],\n",
       "        [0.2072, 0.3167, 0.3061, 0.1700],\n",
       "        [0.5198, 0.1827, 0.1656, 0.1319],\n",
       "        [0.4376, 0.1507, 0.2692, 0.1425],\n",
       "        [0.3183, 0.2354, 0.3266, 0.1197],\n",
       "        [0.3603, 0.2459, 0.2094, 0.1844],\n",
       "        [0.2978, 0.2608, 0.3281, 0.1132]], device='cuda:0',\n",
       "       grad_fn=<SoftmaxBackward>)"
      ]
     },
     "execution_count": 49,
     "metadata": {},
     "output_type": "execute_result"
    }
   ],
   "source": [
    "F.softmax(model(input_ids, attention_mask),dim=1)"
   ]
  },
  {
   "cell_type": "code",
   "execution_count": 50,
   "metadata": {
    "execution": {
     "iopub.execute_input": "2022-11-15T04:38:51.698332Z",
     "iopub.status.busy": "2022-11-15T04:38:51.696156Z",
     "iopub.status.idle": "2022-11-15T04:38:51.715115Z",
     "shell.execute_reply": "2022-11-15T04:38:51.714107Z",
     "shell.execute_reply.started": "2022-11-15T04:38:51.698290Z"
    }
   },
   "outputs": [
    {
     "data": {
      "text/plain": [
       "<bound method Module.parameters of SentimentClassifier(\n",
       "  (bert): BertModel(\n",
       "    (embeddings): BertEmbeddings(\n",
       "      (word_embeddings): Embedding(30522, 768, padding_idx=0)\n",
       "      (position_embeddings): Embedding(512, 768)\n",
       "      (token_type_embeddings): Embedding(2, 768)\n",
       "      (LayerNorm): LayerNorm((768,), eps=1e-12, elementwise_affine=True)\n",
       "      (dropout): Dropout(p=0.1, inplace=False)\n",
       "    )\n",
       "    (encoder): BertEncoder(\n",
       "      (layer): ModuleList(\n",
       "        (0): BertLayer(\n",
       "          (attention): BertAttention(\n",
       "            (self): BertSelfAttention(\n",
       "              (query): Linear(in_features=768, out_features=768, bias=True)\n",
       "              (key): Linear(in_features=768, out_features=768, bias=True)\n",
       "              (value): Linear(in_features=768, out_features=768, bias=True)\n",
       "              (dropout): Dropout(p=0.1, inplace=False)\n",
       "            )\n",
       "            (output): BertSelfOutput(\n",
       "              (dense): Linear(in_features=768, out_features=768, bias=True)\n",
       "              (LayerNorm): LayerNorm((768,), eps=1e-12, elementwise_affine=True)\n",
       "              (dropout): Dropout(p=0.1, inplace=False)\n",
       "            )\n",
       "          )\n",
       "          (intermediate): BertIntermediate(\n",
       "            (dense): Linear(in_features=768, out_features=3072, bias=True)\n",
       "          )\n",
       "          (output): BertOutput(\n",
       "            (dense): Linear(in_features=3072, out_features=768, bias=True)\n",
       "            (LayerNorm): LayerNorm((768,), eps=1e-12, elementwise_affine=True)\n",
       "            (dropout): Dropout(p=0.1, inplace=False)\n",
       "          )\n",
       "        )\n",
       "        (1): BertLayer(\n",
       "          (attention): BertAttention(\n",
       "            (self): BertSelfAttention(\n",
       "              (query): Linear(in_features=768, out_features=768, bias=True)\n",
       "              (key): Linear(in_features=768, out_features=768, bias=True)\n",
       "              (value): Linear(in_features=768, out_features=768, bias=True)\n",
       "              (dropout): Dropout(p=0.1, inplace=False)\n",
       "            )\n",
       "            (output): BertSelfOutput(\n",
       "              (dense): Linear(in_features=768, out_features=768, bias=True)\n",
       "              (LayerNorm): LayerNorm((768,), eps=1e-12, elementwise_affine=True)\n",
       "              (dropout): Dropout(p=0.1, inplace=False)\n",
       "            )\n",
       "          )\n",
       "          (intermediate): BertIntermediate(\n",
       "            (dense): Linear(in_features=768, out_features=3072, bias=True)\n",
       "          )\n",
       "          (output): BertOutput(\n",
       "            (dense): Linear(in_features=3072, out_features=768, bias=True)\n",
       "            (LayerNorm): LayerNorm((768,), eps=1e-12, elementwise_affine=True)\n",
       "            (dropout): Dropout(p=0.1, inplace=False)\n",
       "          )\n",
       "        )\n",
       "        (2): BertLayer(\n",
       "          (attention): BertAttention(\n",
       "            (self): BertSelfAttention(\n",
       "              (query): Linear(in_features=768, out_features=768, bias=True)\n",
       "              (key): Linear(in_features=768, out_features=768, bias=True)\n",
       "              (value): Linear(in_features=768, out_features=768, bias=True)\n",
       "              (dropout): Dropout(p=0.1, inplace=False)\n",
       "            )\n",
       "            (output): BertSelfOutput(\n",
       "              (dense): Linear(in_features=768, out_features=768, bias=True)\n",
       "              (LayerNorm): LayerNorm((768,), eps=1e-12, elementwise_affine=True)\n",
       "              (dropout): Dropout(p=0.1, inplace=False)\n",
       "            )\n",
       "          )\n",
       "          (intermediate): BertIntermediate(\n",
       "            (dense): Linear(in_features=768, out_features=3072, bias=True)\n",
       "          )\n",
       "          (output): BertOutput(\n",
       "            (dense): Linear(in_features=3072, out_features=768, bias=True)\n",
       "            (LayerNorm): LayerNorm((768,), eps=1e-12, elementwise_affine=True)\n",
       "            (dropout): Dropout(p=0.1, inplace=False)\n",
       "          )\n",
       "        )\n",
       "        (3): BertLayer(\n",
       "          (attention): BertAttention(\n",
       "            (self): BertSelfAttention(\n",
       "              (query): Linear(in_features=768, out_features=768, bias=True)\n",
       "              (key): Linear(in_features=768, out_features=768, bias=True)\n",
       "              (value): Linear(in_features=768, out_features=768, bias=True)\n",
       "              (dropout): Dropout(p=0.1, inplace=False)\n",
       "            )\n",
       "            (output): BertSelfOutput(\n",
       "              (dense): Linear(in_features=768, out_features=768, bias=True)\n",
       "              (LayerNorm): LayerNorm((768,), eps=1e-12, elementwise_affine=True)\n",
       "              (dropout): Dropout(p=0.1, inplace=False)\n",
       "            )\n",
       "          )\n",
       "          (intermediate): BertIntermediate(\n",
       "            (dense): Linear(in_features=768, out_features=3072, bias=True)\n",
       "          )\n",
       "          (output): BertOutput(\n",
       "            (dense): Linear(in_features=3072, out_features=768, bias=True)\n",
       "            (LayerNorm): LayerNorm((768,), eps=1e-12, elementwise_affine=True)\n",
       "            (dropout): Dropout(p=0.1, inplace=False)\n",
       "          )\n",
       "        )\n",
       "        (4): BertLayer(\n",
       "          (attention): BertAttention(\n",
       "            (self): BertSelfAttention(\n",
       "              (query): Linear(in_features=768, out_features=768, bias=True)\n",
       "              (key): Linear(in_features=768, out_features=768, bias=True)\n",
       "              (value): Linear(in_features=768, out_features=768, bias=True)\n",
       "              (dropout): Dropout(p=0.1, inplace=False)\n",
       "            )\n",
       "            (output): BertSelfOutput(\n",
       "              (dense): Linear(in_features=768, out_features=768, bias=True)\n",
       "              (LayerNorm): LayerNorm((768,), eps=1e-12, elementwise_affine=True)\n",
       "              (dropout): Dropout(p=0.1, inplace=False)\n",
       "            )\n",
       "          )\n",
       "          (intermediate): BertIntermediate(\n",
       "            (dense): Linear(in_features=768, out_features=3072, bias=True)\n",
       "          )\n",
       "          (output): BertOutput(\n",
       "            (dense): Linear(in_features=3072, out_features=768, bias=True)\n",
       "            (LayerNorm): LayerNorm((768,), eps=1e-12, elementwise_affine=True)\n",
       "            (dropout): Dropout(p=0.1, inplace=False)\n",
       "          )\n",
       "        )\n",
       "        (5): BertLayer(\n",
       "          (attention): BertAttention(\n",
       "            (self): BertSelfAttention(\n",
       "              (query): Linear(in_features=768, out_features=768, bias=True)\n",
       "              (key): Linear(in_features=768, out_features=768, bias=True)\n",
       "              (value): Linear(in_features=768, out_features=768, bias=True)\n",
       "              (dropout): Dropout(p=0.1, inplace=False)\n",
       "            )\n",
       "            (output): BertSelfOutput(\n",
       "              (dense): Linear(in_features=768, out_features=768, bias=True)\n",
       "              (LayerNorm): LayerNorm((768,), eps=1e-12, elementwise_affine=True)\n",
       "              (dropout): Dropout(p=0.1, inplace=False)\n",
       "            )\n",
       "          )\n",
       "          (intermediate): BertIntermediate(\n",
       "            (dense): Linear(in_features=768, out_features=3072, bias=True)\n",
       "          )\n",
       "          (output): BertOutput(\n",
       "            (dense): Linear(in_features=3072, out_features=768, bias=True)\n",
       "            (LayerNorm): LayerNorm((768,), eps=1e-12, elementwise_affine=True)\n",
       "            (dropout): Dropout(p=0.1, inplace=False)\n",
       "          )\n",
       "        )\n",
       "        (6): BertLayer(\n",
       "          (attention): BertAttention(\n",
       "            (self): BertSelfAttention(\n",
       "              (query): Linear(in_features=768, out_features=768, bias=True)\n",
       "              (key): Linear(in_features=768, out_features=768, bias=True)\n",
       "              (value): Linear(in_features=768, out_features=768, bias=True)\n",
       "              (dropout): Dropout(p=0.1, inplace=False)\n",
       "            )\n",
       "            (output): BertSelfOutput(\n",
       "              (dense): Linear(in_features=768, out_features=768, bias=True)\n",
       "              (LayerNorm): LayerNorm((768,), eps=1e-12, elementwise_affine=True)\n",
       "              (dropout): Dropout(p=0.1, inplace=False)\n",
       "            )\n",
       "          )\n",
       "          (intermediate): BertIntermediate(\n",
       "            (dense): Linear(in_features=768, out_features=3072, bias=True)\n",
       "          )\n",
       "          (output): BertOutput(\n",
       "            (dense): Linear(in_features=3072, out_features=768, bias=True)\n",
       "            (LayerNorm): LayerNorm((768,), eps=1e-12, elementwise_affine=True)\n",
       "            (dropout): Dropout(p=0.1, inplace=False)\n",
       "          )\n",
       "        )\n",
       "        (7): BertLayer(\n",
       "          (attention): BertAttention(\n",
       "            (self): BertSelfAttention(\n",
       "              (query): Linear(in_features=768, out_features=768, bias=True)\n",
       "              (key): Linear(in_features=768, out_features=768, bias=True)\n",
       "              (value): Linear(in_features=768, out_features=768, bias=True)\n",
       "              (dropout): Dropout(p=0.1, inplace=False)\n",
       "            )\n",
       "            (output): BertSelfOutput(\n",
       "              (dense): Linear(in_features=768, out_features=768, bias=True)\n",
       "              (LayerNorm): LayerNorm((768,), eps=1e-12, elementwise_affine=True)\n",
       "              (dropout): Dropout(p=0.1, inplace=False)\n",
       "            )\n",
       "          )\n",
       "          (intermediate): BertIntermediate(\n",
       "            (dense): Linear(in_features=768, out_features=3072, bias=True)\n",
       "          )\n",
       "          (output): BertOutput(\n",
       "            (dense): Linear(in_features=3072, out_features=768, bias=True)\n",
       "            (LayerNorm): LayerNorm((768,), eps=1e-12, elementwise_affine=True)\n",
       "            (dropout): Dropout(p=0.1, inplace=False)\n",
       "          )\n",
       "        )\n",
       "        (8): BertLayer(\n",
       "          (attention): BertAttention(\n",
       "            (self): BertSelfAttention(\n",
       "              (query): Linear(in_features=768, out_features=768, bias=True)\n",
       "              (key): Linear(in_features=768, out_features=768, bias=True)\n",
       "              (value): Linear(in_features=768, out_features=768, bias=True)\n",
       "              (dropout): Dropout(p=0.1, inplace=False)\n",
       "            )\n",
       "            (output): BertSelfOutput(\n",
       "              (dense): Linear(in_features=768, out_features=768, bias=True)\n",
       "              (LayerNorm): LayerNorm((768,), eps=1e-12, elementwise_affine=True)\n",
       "              (dropout): Dropout(p=0.1, inplace=False)\n",
       "            )\n",
       "          )\n",
       "          (intermediate): BertIntermediate(\n",
       "            (dense): Linear(in_features=768, out_features=3072, bias=True)\n",
       "          )\n",
       "          (output): BertOutput(\n",
       "            (dense): Linear(in_features=3072, out_features=768, bias=True)\n",
       "            (LayerNorm): LayerNorm((768,), eps=1e-12, elementwise_affine=True)\n",
       "            (dropout): Dropout(p=0.1, inplace=False)\n",
       "          )\n",
       "        )\n",
       "        (9): BertLayer(\n",
       "          (attention): BertAttention(\n",
       "            (self): BertSelfAttention(\n",
       "              (query): Linear(in_features=768, out_features=768, bias=True)\n",
       "              (key): Linear(in_features=768, out_features=768, bias=True)\n",
       "              (value): Linear(in_features=768, out_features=768, bias=True)\n",
       "              (dropout): Dropout(p=0.1, inplace=False)\n",
       "            )\n",
       "            (output): BertSelfOutput(\n",
       "              (dense): Linear(in_features=768, out_features=768, bias=True)\n",
       "              (LayerNorm): LayerNorm((768,), eps=1e-12, elementwise_affine=True)\n",
       "              (dropout): Dropout(p=0.1, inplace=False)\n",
       "            )\n",
       "          )\n",
       "          (intermediate): BertIntermediate(\n",
       "            (dense): Linear(in_features=768, out_features=3072, bias=True)\n",
       "          )\n",
       "          (output): BertOutput(\n",
       "            (dense): Linear(in_features=3072, out_features=768, bias=True)\n",
       "            (LayerNorm): LayerNorm((768,), eps=1e-12, elementwise_affine=True)\n",
       "            (dropout): Dropout(p=0.1, inplace=False)\n",
       "          )\n",
       "        )\n",
       "        (10): BertLayer(\n",
       "          (attention): BertAttention(\n",
       "            (self): BertSelfAttention(\n",
       "              (query): Linear(in_features=768, out_features=768, bias=True)\n",
       "              (key): Linear(in_features=768, out_features=768, bias=True)\n",
       "              (value): Linear(in_features=768, out_features=768, bias=True)\n",
       "              (dropout): Dropout(p=0.1, inplace=False)\n",
       "            )\n",
       "            (output): BertSelfOutput(\n",
       "              (dense): Linear(in_features=768, out_features=768, bias=True)\n",
       "              (LayerNorm): LayerNorm((768,), eps=1e-12, elementwise_affine=True)\n",
       "              (dropout): Dropout(p=0.1, inplace=False)\n",
       "            )\n",
       "          )\n",
       "          (intermediate): BertIntermediate(\n",
       "            (dense): Linear(in_features=768, out_features=3072, bias=True)\n",
       "          )\n",
       "          (output): BertOutput(\n",
       "            (dense): Linear(in_features=3072, out_features=768, bias=True)\n",
       "            (LayerNorm): LayerNorm((768,), eps=1e-12, elementwise_affine=True)\n",
       "            (dropout): Dropout(p=0.1, inplace=False)\n",
       "          )\n",
       "        )\n",
       "        (11): BertLayer(\n",
       "          (attention): BertAttention(\n",
       "            (self): BertSelfAttention(\n",
       "              (query): Linear(in_features=768, out_features=768, bias=True)\n",
       "              (key): Linear(in_features=768, out_features=768, bias=True)\n",
       "              (value): Linear(in_features=768, out_features=768, bias=True)\n",
       "              (dropout): Dropout(p=0.1, inplace=False)\n",
       "            )\n",
       "            (output): BertSelfOutput(\n",
       "              (dense): Linear(in_features=768, out_features=768, bias=True)\n",
       "              (LayerNorm): LayerNorm((768,), eps=1e-12, elementwise_affine=True)\n",
       "              (dropout): Dropout(p=0.1, inplace=False)\n",
       "            )\n",
       "          )\n",
       "          (intermediate): BertIntermediate(\n",
       "            (dense): Linear(in_features=768, out_features=3072, bias=True)\n",
       "          )\n",
       "          (output): BertOutput(\n",
       "            (dense): Linear(in_features=3072, out_features=768, bias=True)\n",
       "            (LayerNorm): LayerNorm((768,), eps=1e-12, elementwise_affine=True)\n",
       "            (dropout): Dropout(p=0.1, inplace=False)\n",
       "          )\n",
       "        )\n",
       "      )\n",
       "    )\n",
       "    (pooler): BertPooler(\n",
       "      (dense): Linear(in_features=768, out_features=768, bias=True)\n",
       "      (activation): Tanh()\n",
       "    )\n",
       "  )\n",
       "  (drop): Dropout(p=0.3, inplace=False)\n",
       "  (out): Linear(in_features=768, out_features=4, bias=True)\n",
       ")>"
      ]
     },
     "execution_count": 50,
     "metadata": {},
     "output_type": "execute_result"
    }
   ],
   "source": [
    "model.parameters"
   ]
  },
  {
   "cell_type": "code",
   "execution_count": 51,
   "metadata": {
    "execution": {
     "iopub.execute_input": "2022-11-15T04:38:51.721791Z",
     "iopub.status.busy": "2022-11-15T04:38:51.719602Z",
     "iopub.status.idle": "2022-11-15T04:38:51.731328Z",
     "shell.execute_reply": "2022-11-15T04:38:51.730500Z",
     "shell.execute_reply.started": "2022-11-15T04:38:51.721752Z"
    }
   },
   "outputs": [],
   "source": [
    "EPOCHS = 10\n",
    "optimizer = AdamW(model.parameters(), lr=2e-5, correct_bias=False)\n",
    "total_steps = len(train_data_loader) * EPOCHS\n",
    "scheduler = get_linear_schedule_with_warmup(\n",
    "  optimizer,\n",
    "  num_warmup_steps=0,\n",
    "  num_training_steps=total_steps\n",
    ")\n",
    "loss_fn = nn.CrossEntropyLoss().to(device)"
   ]
  },
  {
   "cell_type": "markdown",
   "metadata": {},
   "source": [
    "Training with each epoch, it returns loss and accuracy with each step, and use gradient clipping to prrevent gradiemt clipping and optimize each step"
   ]
  },
  {
   "cell_type": "code",
   "execution_count": 52,
   "metadata": {
    "execution": {
     "iopub.execute_input": "2022-11-15T04:38:51.738591Z",
     "iopub.status.busy": "2022-11-15T04:38:51.736103Z",
     "iopub.status.idle": "2022-11-15T04:38:51.751843Z",
     "shell.execute_reply": "2022-11-15T04:38:51.751027Z",
     "shell.execute_reply.started": "2022-11-15T04:38:51.738551Z"
    }
   },
   "outputs": [],
   "source": [
    "def train_epoch(model,data_loader,loss_fn,optimizer,device,scheduler, n_examples):  \n",
    "    model = model.train()\n",
    "    losses = []\n",
    "    correct_predictions = 0\n",
    "    for d in data_loader:\n",
    "        \n",
    "        input_ids = d[\"input_ids\"].to(device)\n",
    "        attention_mask = d[\"attention_mask\"].to(device)\n",
    "        targets = d[\"sentiments\"].to(device)\n",
    "        outputs = model(input_ids=input_ids,attention_mask=attention_mask)\n",
    "        _, preds = torch.max(outputs, dim=1)\n",
    "        loss = loss_fn(outputs, targets)\n",
    "        correct_predictions += torch.sum(preds == targets)\n",
    "        losses.append(loss.item())\n",
    "        loss.backward()\n",
    "        nn.utils.clip_grad_norm_(model.parameters(), max_norm=1.0)\n",
    "        optimizer.step()\n",
    "        scheduler.step()\n",
    "        optimizer.zero_grad()\n",
    "    return correct_predictions.double() / n_examples, np.mean(losses)"
   ]
  },
  {
   "cell_type": "markdown",
   "metadata": {},
   "source": [
    "We'll do the same with evaluation, except for optimization"
   ]
  },
  {
   "cell_type": "code",
   "execution_count": 53,
   "metadata": {
    "execution": {
     "iopub.execute_input": "2022-11-15T04:38:51.759037Z",
     "iopub.status.busy": "2022-11-15T04:38:51.756326Z",
     "iopub.status.idle": "2022-11-15T04:38:51.769821Z",
     "shell.execute_reply": "2022-11-15T04:38:51.768878Z",
     "shell.execute_reply.started": "2022-11-15T04:38:51.758983Z"
    }
   },
   "outputs": [],
   "source": [
    "def eval_model(model, data_loader, loss_fn, device, n_examples):\n",
    "    \n",
    "    model = model.eval()\n",
    "    losses = []\n",
    "    correct_predictions = 0\n",
    "    with torch.no_grad():\n",
    "        for d in data_loader:\n",
    "            input_ids = d[\"input_ids\"].to(device)\n",
    "            attention_mask = d[\"attention_mask\"].to(device)\n",
    "            targets = d[\"sentiments\"].to(device)\n",
    "            outputs = model(input_ids=input_ids,attention_mask=attention_mask)\n",
    "            _, preds = torch.max(outputs, dim=1)\n",
    "            loss = loss_fn(outputs, targets)\n",
    "            correct_predictions += torch.sum(preds == targets)\n",
    "            losses.append(loss.item())\n",
    "        return correct_predictions.double() / n_examples, np.mean(losses)\n",
    "            \n",
    "                "
   ]
  },
  {
   "cell_type": "code",
   "execution_count": 54,
   "metadata": {
    "execution": {
     "iopub.execute_input": "2022-11-15T04:38:51.776354Z",
     "iopub.status.busy": "2022-11-15T04:38:51.773987Z",
     "iopub.status.idle": "2022-11-15T04:38:51.782024Z",
     "shell.execute_reply": "2022-11-15T04:38:51.781098Z",
     "shell.execute_reply.started": "2022-11-15T04:38:51.776317Z"
    }
   },
   "outputs": [],
   "source": [
    "from collections import defaultdict"
   ]
  },
  {
   "cell_type": "markdown",
   "metadata": {},
   "source": [
    "### Checking how the model improved with each epoch"
   ]
  },
  {
   "cell_type": "code",
   "execution_count": 55,
   "metadata": {
    "execution": {
     "iopub.execute_input": "2022-11-15T04:38:51.788439Z",
     "iopub.status.busy": "2022-11-15T04:38:51.786107Z",
     "iopub.status.idle": "2022-11-15T04:47:14.823909Z",
     "shell.execute_reply": "2022-11-15T04:47:14.822849Z",
     "shell.execute_reply.started": "2022-11-15T04:38:51.788402Z"
    }
   },
   "outputs": [
    {
     "name": "stdout",
     "output_type": "stream",
     "text": [
      "Epoch 1/10\n",
      "----------\n",
      "Train loss 0.930702276270965 accuracy 0.6051779935275081\n",
      "Val   loss 0.6903067886829376 accuracy 0.7346278317152104\n",
      "\n",
      "Epoch 2/10\n",
      "----------\n",
      "Train loss 0.43305613109092606 accuracy 0.843581445523193\n",
      "Val   loss 0.62260502576828 accuracy 0.7734627831715211\n",
      "\n",
      "Epoch 3/10\n",
      "----------\n",
      "Train loss 0.2095230825502297 accuracy 0.9363538295577131\n",
      "Val   loss 0.7054805755615234 accuracy 0.7896440129449839\n",
      "\n",
      "Epoch 4/10\n",
      "----------\n",
      "Train loss 0.12751422792501832 accuracy 0.9604458827759799\n",
      "Val   loss 0.9469773590564727 accuracy 0.7605177993527509\n",
      "\n",
      "Epoch 5/10\n",
      "----------\n",
      "Train loss 0.05593662828892127 accuracy 0.9859762675296656\n",
      "Val   loss 1.0400932490825654 accuracy 0.7766990291262136\n",
      "\n",
      "Epoch 6/10\n",
      "----------\n",
      "Train loss 0.03239463663649285 accuracy 0.9910104279036317\n",
      "Val   loss 1.1460919082164764 accuracy 0.7669902912621359\n",
      "\n",
      "Epoch 7/10\n",
      "----------\n",
      "Train loss 0.013069475546008211 accuracy 0.9967637540453074\n",
      "Val   loss 1.2050638377666474 accuracy 0.7734627831715211\n",
      "\n",
      "Epoch 8/10\n",
      "----------\n",
      "Train loss 0.007215101657242611 accuracy 0.9982020855807263\n",
      "Val   loss 1.2421123504638671 accuracy 0.7734627831715211\n",
      "\n",
      "Epoch 9/10\n",
      "----------\n",
      "Train loss 0.005628584303368611 accuracy 0.9992808342322905\n",
      "Val   loss 1.2606760621070863 accuracy 0.7669902912621359\n",
      "\n",
      "Epoch 10/10\n",
      "----------\n",
      "Train loss 0.002714986722894955 accuracy 0.9996404171161453\n",
      "Val   loss 1.2694593369960785 accuracy 0.7702265372168285\n",
      "\n",
      "CPU times: user 8min 5s, sys: 6.21 s, total: 8min 11s\n",
      "Wall time: 8min 23s\n"
     ]
    }
   ],
   "source": [
    "%%time\n",
    "history = defaultdict(list)\n",
    "best_accuracy = 0\n",
    "for epoch in range(EPOCHS):\n",
    "    print(f'Epoch {epoch + 1}/{EPOCHS}')\n",
    "    print('-' * 10)\n",
    "    train_acc, train_loss = train_epoch(model,train_data_loader,loss_fn,optimizer,device,scheduler,len(train))\n",
    "    print(f'Train loss {train_loss} accuracy {train_acc}')\n",
    "    val_acc, val_loss = eval_model(model,val_data_loader,loss_fn,device,len(val))\n",
    "    print(f'Val   loss {val_loss} accuracy {val_acc}')\n",
    "    print()\n",
    "    history['train_acc'].append(train_acc)\n",
    "    history['train_loss'].append(train_loss)\n",
    "    history['val_acc'].append(val_acc)\n",
    "    history['val_loss'].append(val_loss)\n",
    "    if val_acc > best_accuracy:\n",
    "        \n",
    "        torch.save(model.state_dict(), 'best_model_state.bin')\n",
    "        best_accuracy = val_acc"
   ]
  },
  {
   "cell_type": "markdown",
   "metadata": {},
   "source": [
    "### Plotting a graph of train and validation accuracy vs epochs"
   ]
  },
  {
   "cell_type": "code",
   "execution_count": 56,
   "metadata": {
    "execution": {
     "iopub.execute_input": "2022-11-15T04:47:14.826104Z",
     "iopub.status.busy": "2022-11-15T04:47:14.825724Z",
     "iopub.status.idle": "2022-11-15T04:47:14.987047Z",
     "shell.execute_reply": "2022-11-15T04:47:14.986092Z",
     "shell.execute_reply.started": "2022-11-15T04:47:14.826063Z"
    }
   },
   "outputs": [
    {
     "data": {
      "image/png": "[encoded data removed]",
      "text/plain": [
       "<Figure size 432x288 with 1 Axes>"
      ]
     },
     "metadata": {
      "needs_background": "light"
     },
     "output_type": "display_data"
    }
   ],
   "source": [
    "plt.plot(history['train_acc'], label='train accuracy')\n",
    "plt.plot(history['val_acc'], label='validation accuracy')\n",
    "plt.title('Training history')\n",
    "plt.ylabel('Accuracy')\n",
    "plt.xlabel('Epoch')\n",
    "plt.legend()\n",
    "plt.ylim([0, 1]);"
   ]
  },
  {
   "cell_type": "markdown",
   "metadata": {},
   "source": [
    "### Testing our transformer by passing a text input and getting sentiment analysis"
   ]
  },
  {
   "cell_type": "code",
   "execution_count": 57,
   "metadata": {
    "execution": {
     "iopub.execute_input": "2022-11-15T04:47:14.988881Z",
     "iopub.status.busy": "2022-11-15T04:47:14.988504Z",
     "iopub.status.idle": "2022-11-15T04:47:14.993655Z",
     "shell.execute_reply": "2022-11-15T04:47:14.992708Z",
     "shell.execute_reply.started": "2022-11-15T04:47:14.988843Z"
    }
   },
   "outputs": [],
   "source": [
    "review_text = 'Life has come to standstill due to this pandemic, milllions have lost their job '"
   ]
  },
  {
   "cell_type": "code",
   "execution_count": 58,
   "metadata": {
    "execution": {
     "iopub.execute_input": "2022-11-15T04:47:14.995480Z",
     "iopub.status.busy": "2022-11-15T04:47:14.994902Z",
     "iopub.status.idle": "2022-11-15T04:47:15.005205Z",
     "shell.execute_reply": "2022-11-15T04:47:15.004387Z",
     "shell.execute_reply.started": "2022-11-15T04:47:14.995427Z"
    }
   },
   "outputs": [],
   "source": [
    "encoded_review = tokenizer.encode_plus(review_text,max_length=MAX_LEN,add_special_tokens=True,\n",
    "                                           return_token_type_ids=False,pad_to_max_length=True,return_attention_mask=True,\n",
    "                                           return_tensors='pt')"
   ]
  },
  {
   "cell_type": "code",
   "execution_count": 59,
   "metadata": {
    "execution": {
     "iopub.execute_input": "2022-11-15T04:47:15.009053Z",
     "iopub.status.busy": "2022-11-15T04:47:15.007858Z",
     "iopub.status.idle": "2022-11-15T04:47:15.081222Z",
     "shell.execute_reply": "2022-11-15T04:47:15.079477Z",
     "shell.execute_reply.started": "2022-11-15T04:47:15.008997Z"
    }
   },
   "outputs": [
    {
     "name": "stdout",
     "output_type": "stream",
     "text": [
      "Review text :Life has come to standstill due to this pandemic, milllions have lost their job \n",
      "Sentiment :sad\n"
     ]
    }
   ],
   "source": [
    "input_ids = encoded_review['input_ids'].to(device)\n",
    "attention_mask = encoded_review['attention_mask'].to(device)\n",
    "output = model(input_ids, attention_mask)\n",
    "_, prediction = torch.max(output, dim=1)\n",
    "print('Review text :{}'.format(review_text))\n",
    "print('Sentiment :{}'.format(classes[prediction]))"
   ]
  },
  {
   "cell_type": "code",
   "execution_count": null,
   "metadata": {},
   "outputs": [],
   "source": []
  }
 ],
 "metadata": {
  "kernelspec": {
   "display_name": "Python 3 (ipykernel)",
   "language": "python",
   "name": "python3"
  },
  "language_info": {
   "codemirror_mode": {
    "name": "ipython",
    "version": 3
   },
   "file_extension": ".py",
   "mimetype": "text/x-python",
   "name": "python",
   "nbconvert_exporter": "python",
   "pygments_lexer": "ipython3",
   "version": "3.9.13"
  }
 },
 "nbformat": 4,
 "nbformat_minor": 4
}
