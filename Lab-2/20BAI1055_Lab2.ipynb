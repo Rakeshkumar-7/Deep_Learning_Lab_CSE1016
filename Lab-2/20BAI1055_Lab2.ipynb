{
 "cells": [
  {
   "cell_type": "markdown",
   "id": "e7b9f0b3",
   "metadata": {},
   "source": [
    "## Reg. no: 20BAI1055\n",
    "## Name: Rakesh Kumar K S\n",
    "### Lab-2: Hyperparameter tuning"
   ]
  },
  {
   "cell_type": "code",
   "execution_count": 1,
   "id": "3ca88bc8",
   "metadata": {},
   "outputs": [],
   "source": [
    "import pandas as pd\n",
    "import numpy as np"
   ]
  },
  {
   "cell_type": "markdown",
   "id": "7562f89e",
   "metadata": {},
   "source": [
    "### Importing the dataset"
   ]
  },
  {
   "cell_type": "code",
   "execution_count": 2,
   "id": "0fdf0e33",
   "metadata": {},
   "outputs": [
    {
     "data": {
      "text/html": [
       "<div>\n",
       "<style scoped>\n",
       "    .dataframe tbody tr th:only-of-type {\n",
       "        vertical-align: middle;\n",
       "    }\n",
       "\n",
       "    .dataframe tbody tr th {\n",
       "        vertical-align: top;\n",
       "    }\n",
       "\n",
       "    .dataframe thead th {\n",
       "        text-align: right;\n",
       "    }\n",
       "</style>\n",
       "<table border=\"1\" class=\"dataframe\">\n",
       "  <thead>\n",
       "    <tr style=\"text-align: right;\">\n",
       "      <th></th>\n",
       "      <th>blue</th>\n",
       "      <th>green</th>\n",
       "      <th>red</th>\n",
       "      <th>label</th>\n",
       "    </tr>\n",
       "  </thead>\n",
       "  <tbody>\n",
       "    <tr>\n",
       "      <th>0</th>\n",
       "      <td>36</td>\n",
       "      <td>27</td>\n",
       "      <td>231</td>\n",
       "      <td>0</td>\n",
       "    </tr>\n",
       "    <tr>\n",
       "      <th>1</th>\n",
       "      <td>36</td>\n",
       "      <td>84</td>\n",
       "      <td>250</td>\n",
       "      <td>1</td>\n",
       "    </tr>\n",
       "    <tr>\n",
       "      <th>2</th>\n",
       "      <td>37</td>\n",
       "      <td>164</td>\n",
       "      <td>255</td>\n",
       "      <td>2</td>\n",
       "    </tr>\n",
       "    <tr>\n",
       "      <th>3</th>\n",
       "      <td>22</td>\n",
       "      <td>205</td>\n",
       "      <td>255</td>\n",
       "      <td>3</td>\n",
       "    </tr>\n",
       "    <tr>\n",
       "      <th>4</th>\n",
       "      <td>38</td>\n",
       "      <td>223</td>\n",
       "      <td>221</td>\n",
       "      <td>4</td>\n",
       "    </tr>\n",
       "  </tbody>\n",
       "</table>\n",
       "</div>"
      ],
      "text/plain": [
       "   blue  green  red  label\n",
       "0    36     27  231      0\n",
       "1    36     84  250      1\n",
       "2    37    164  255      2\n",
       "3    22    205  255      3\n",
       "4    38    223  221      4"
      ]
     },
     "execution_count": 2,
     "metadata": {},
     "output_type": "execute_result"
    }
   ],
   "source": [
    "# Source: https://www.kaggle.com/datasets/robjan/ph-recognition\n",
    "df = pd.read_csv(\"./ph-data.csv\")\n",
    "df.head()"
   ]
  },
  {
   "cell_type": "markdown",
   "id": "beabc6e6",
   "metadata": {},
   "source": [
    "### EDA"
   ]
  },
  {
   "cell_type": "code",
   "execution_count": 3,
   "id": "877f8f49",
   "metadata": {},
   "outputs": [],
   "source": [
    "import matplotlib.pyplot as plt\n",
    "import seaborn as sns"
   ]
  },
  {
   "cell_type": "code",
   "execution_count": 4,
   "id": "354e08be",
   "metadata": {},
   "outputs": [
    {
     "data": {
      "text/plain": [
       "<BarContainer object of 653 artists>"
      ]
     },
     "execution_count": 4,
     "metadata": {},
     "output_type": "execute_result"
    },
    {
     "data": {
      "image/png": "[encoded data removed]",
      "text/plain": [
       "<Figure size 432x288 with 1 Axes>"
      ]
     },
     "metadata": {
      "needs_background": "light"
     },
     "output_type": "display_data"
    }
   ],
   "source": [
    "plt.bar(df['label'], df['label'].count())"
   ]
  },
  {
   "cell_type": "markdown",
   "id": "2ff1ab05",
   "metadata": {},
   "source": [
    "As we can see above, the dataset is well balanced among the classes 0 to 14"
   ]
  },
  {
   "cell_type": "markdown",
   "id": "08817c6e",
   "metadata": {},
   "source": [
    "### Pre-processing"
   ]
  },
  {
   "cell_type": "code",
   "execution_count": 5,
   "id": "bb34e271",
   "metadata": {},
   "outputs": [
    {
     "data": {
      "text/html": [
       "<div>\n",
       "<style scoped>\n",
       "    .dataframe tbody tr th:only-of-type {\n",
       "        vertical-align: middle;\n",
       "    }\n",
       "\n",
       "    .dataframe tbody tr th {\n",
       "        vertical-align: top;\n",
       "    }\n",
       "\n",
       "    .dataframe thead th {\n",
       "        text-align: right;\n",
       "    }\n",
       "</style>\n",
       "<table border=\"1\" class=\"dataframe\">\n",
       "  <thead>\n",
       "    <tr style=\"text-align: right;\">\n",
       "      <th></th>\n",
       "      <th>blue</th>\n",
       "      <th>green</th>\n",
       "      <th>red</th>\n",
       "      <th>label</th>\n",
       "    </tr>\n",
       "  </thead>\n",
       "  <tbody>\n",
       "    <tr>\n",
       "      <th>0</th>\n",
       "      <td>0.141176</td>\n",
       "      <td>0.105882</td>\n",
       "      <td>0.905882</td>\n",
       "      <td>0</td>\n",
       "    </tr>\n",
       "    <tr>\n",
       "      <th>1</th>\n",
       "      <td>0.141176</td>\n",
       "      <td>0.329412</td>\n",
       "      <td>0.980392</td>\n",
       "      <td>1</td>\n",
       "    </tr>\n",
       "    <tr>\n",
       "      <th>2</th>\n",
       "      <td>0.145098</td>\n",
       "      <td>0.643137</td>\n",
       "      <td>1.000000</td>\n",
       "      <td>2</td>\n",
       "    </tr>\n",
       "    <tr>\n",
       "      <th>3</th>\n",
       "      <td>0.086275</td>\n",
       "      <td>0.803922</td>\n",
       "      <td>1.000000</td>\n",
       "      <td>3</td>\n",
       "    </tr>\n",
       "    <tr>\n",
       "      <th>4</th>\n",
       "      <td>0.149020</td>\n",
       "      <td>0.874510</td>\n",
       "      <td>0.866667</td>\n",
       "      <td>4</td>\n",
       "    </tr>\n",
       "  </tbody>\n",
       "</table>\n",
       "</div>"
      ],
      "text/plain": [
       "       blue     green       red  label\n",
       "0  0.141176  0.105882  0.905882      0\n",
       "1  0.141176  0.329412  0.980392      1\n",
       "2  0.145098  0.643137  1.000000      2\n",
       "3  0.086275  0.803922  1.000000      3\n",
       "4  0.149020  0.874510  0.866667      4"
      ]
     },
     "execution_count": 5,
     "metadata": {},
     "output_type": "execute_result"
    }
   ],
   "source": [
    "df['blue'] = df['blue']/255\n",
    "df['green'] = df['green']/255\n",
    "df['red'] = df['red']/255\n",
    "\n",
    "df.head()"
   ]
  },
  {
   "cell_type": "markdown",
   "id": "b8501167",
   "metadata": {},
   "source": [
    "### Splitting the data into train, val and test set"
   ]
  },
  {
   "cell_type": "code",
   "execution_count": 6,
   "id": "05c6cf6c",
   "metadata": {},
   "outputs": [],
   "source": [
    "from sklearn.model_selection import train_test_split"
   ]
  },
  {
   "cell_type": "code",
   "execution_count": 7,
   "id": "6b69af8f",
   "metadata": {},
   "outputs": [],
   "source": [
    "X = df.drop(columns=['label'])\n",
    "y = df[['label']]"
   ]
  },
  {
   "cell_type": "code",
   "execution_count": 8,
   "id": "0bfb0a7d",
   "metadata": {},
   "outputs": [
    {
     "data": {
      "text/plain": [
       "(653, 3)"
      ]
     },
     "execution_count": 8,
     "metadata": {},
     "output_type": "execute_result"
    }
   ],
   "source": [
    "X.shape"
   ]
  },
  {
   "cell_type": "markdown",
   "id": "a2c36314",
   "metadata": {},
   "source": [
    "Splitting train and test"
   ]
  },
  {
   "cell_type": "code",
   "execution_count": 9,
   "id": "968bd443",
   "metadata": {},
   "outputs": [],
   "source": [
    "X_train, X_test, y_train, y_test = train_test_split(X, y, test_size=0.2, random_state=7)"
   ]
  },
  {
   "cell_type": "code",
   "execution_count": 10,
   "id": "360c4fc4",
   "metadata": {},
   "outputs": [
    {
     "data": {
      "text/plain": [
       "(522, 1)"
      ]
     },
     "execution_count": 10,
     "metadata": {},
     "output_type": "execute_result"
    }
   ],
   "source": [
    "y_train.shape"
   ]
  },
  {
   "cell_type": "code",
   "execution_count": 11,
   "id": "b44e8ad1",
   "metadata": {},
   "outputs": [
    {
     "data": {
      "text/plain": [
       "(131, 1)"
      ]
     },
     "execution_count": 11,
     "metadata": {},
     "output_type": "execute_result"
    }
   ],
   "source": [
    "y_test.shape"
   ]
  },
  {
   "cell_type": "markdown",
   "id": "ce431b4a",
   "metadata": {},
   "source": [
    "Splitting train and val"
   ]
  },
  {
   "cell_type": "code",
   "execution_count": 12,
   "id": "838144cd",
   "metadata": {},
   "outputs": [],
   "source": [
    "X_train, X_val, y_train, y_val = train_test_split(X_train, y_train, test_size=0.2, random_state=7)"
   ]
  },
  {
   "cell_type": "code",
   "execution_count": 13,
   "id": "d25b76f1",
   "metadata": {},
   "outputs": [
    {
     "data": {
      "text/plain": [
       "(417, 1)"
      ]
     },
     "execution_count": 13,
     "metadata": {},
     "output_type": "execute_result"
    }
   ],
   "source": [
    "y_train.shape"
   ]
  },
  {
   "cell_type": "code",
   "execution_count": 14,
   "id": "1e62f4ef",
   "metadata": {},
   "outputs": [
    {
     "data": {
      "text/plain": [
       "(105, 1)"
      ]
     },
     "execution_count": 14,
     "metadata": {},
     "output_type": "execute_result"
    }
   ],
   "source": [
    "y_val.shape"
   ]
  },
  {
   "cell_type": "markdown",
   "id": "c43999e2",
   "metadata": {},
   "source": [
    "### Encoding the output labels"
   ]
  },
  {
   "cell_type": "code",
   "execution_count": 15,
   "id": "a15a10c2",
   "metadata": {},
   "outputs": [
    {
     "data": {
      "text/plain": [
       "array([ 0,  1,  2,  3,  4,  5,  6,  7,  8,  9, 10, 11, 12, 13, 14],\n",
       "      dtype=int64)"
      ]
     },
     "execution_count": 15,
     "metadata": {},
     "output_type": "execute_result"
    }
   ],
   "source": [
    "df['label'].unique()"
   ]
  },
  {
   "cell_type": "code",
   "execution_count": 16,
   "id": "8b414dbd",
   "metadata": {},
   "outputs": [],
   "source": [
    "output_classes = 15 # From 0 to 14"
   ]
  },
  {
   "cell_type": "code",
   "execution_count": 17,
   "id": "a6c65adc",
   "metadata": {},
   "outputs": [],
   "source": [
    "from tensorflow.keras.utils import to_categorical"
   ]
  },
  {
   "cell_type": "code",
   "execution_count": 18,
   "id": "a86ef7a5",
   "metadata": {},
   "outputs": [],
   "source": [
    "y_train = to_categorical(y_train, output_classes)\n",
    "y_val = to_categorical(y_val, output_classes)\n",
    "y_test= to_categorical(y_test, output_classes)"
   ]
  },
  {
   "cell_type": "code",
   "execution_count": 19,
   "id": "e39a77c1",
   "metadata": {},
   "outputs": [
    {
     "data": {
      "text/plain": [
       "(417, 15)"
      ]
     },
     "execution_count": 19,
     "metadata": {},
     "output_type": "execute_result"
    }
   ],
   "source": [
    "y_train.shape"
   ]
  },
  {
   "cell_type": "code",
   "execution_count": 20,
   "id": "3bea25f9",
   "metadata": {},
   "outputs": [
    {
     "data": {
      "text/plain": [
       "array([[0., 0., 1., ..., 0., 0., 0.],\n",
       "       [0., 0., 0., ..., 0., 0., 0.],\n",
       "       [0., 0., 0., ..., 0., 0., 0.],\n",
       "       ...,\n",
       "       [0., 0., 0., ..., 0., 0., 0.],\n",
       "       [0., 0., 0., ..., 0., 1., 0.],\n",
       "       [0., 0., 0., ..., 0., 0., 0.]], dtype=float32)"
      ]
     },
     "execution_count": 20,
     "metadata": {},
     "output_type": "execute_result"
    }
   ],
   "source": [
    "y_train"
   ]
  },
  {
   "cell_type": "markdown",
   "id": "57690490",
   "metadata": {},
   "source": [
    "### Building the Neural Network"
   ]
  },
  {
   "cell_type": "code",
   "execution_count": 21,
   "id": "a04462ab",
   "metadata": {},
   "outputs": [],
   "source": [
    "from keras.models import Sequential\n",
    "from keras.layers import Dense\n",
    "from tensorflow.keras.optimizers import SGD"
   ]
  },
  {
   "cell_type": "code",
   "execution_count": 22,
   "id": "3b35d5f4",
   "metadata": {},
   "outputs": [],
   "source": [
    "def create_base_model(h=0):\n",
    "    model = Sequential([Dense(30,input_shape=(3,),activation='relu'),\n",
    "                    Dense(15, activation='softmax'),\n",
    "                       ])\n",
    "    model.compile(optimizer=SGD(learning_rate=0.1), loss='categorical_crossentropy', metrics=['accuracy'])\n",
    "    return model"
   ]
  },
  {
   "cell_type": "code",
   "execution_count": 23,
   "id": "e74f22da",
   "metadata": {},
   "outputs": [],
   "source": [
    "model = create_base_model()"
   ]
  },
  {
   "cell_type": "code",
   "execution_count": 24,
   "id": "9a530e79",
   "metadata": {},
   "outputs": [
    {
     "name": "stdout",
     "output_type": "stream",
     "text": [
      "Model: \"sequential\"\n",
      "_________________________________________________________________\n",
      " Layer (type)                Output Shape              Param #   \n",
      "=================================================================\n",
      " dense (Dense)               (None, 30)                120       \n",
      "                                                                 \n",
      " dense_1 (Dense)             (None, 15)                465       \n",
      "                                                                 \n",
      "=================================================================\n",
      "Total params: 585\n",
      "Trainable params: 585\n",
      "Non-trainable params: 0\n",
      "_________________________________________________________________\n"
     ]
    }
   ],
   "source": [
    "model.summary()"
   ]
  },
  {
   "cell_type": "code",
   "execution_count": 25,
   "id": "83369f07",
   "metadata": {},
   "outputs": [
    {
     "name": "stdout",
     "output_type": "stream",
     "text": [
      "Epoch 1/50\n",
      "14/14 - 1s - loss: 2.6826 - accuracy: 0.0743 - val_loss: 2.6732 - val_accuracy: 0.0476 - 850ms/epoch - 61ms/step\n",
      "Epoch 2/50\n",
      "14/14 - 0s - loss: 2.6450 - accuracy: 0.0791 - val_loss: 2.6384 - val_accuracy: 0.0571 - 54ms/epoch - 4ms/step\n",
      "Epoch 3/50\n",
      "14/14 - 0s - loss: 2.6137 - accuracy: 0.0647 - val_loss: 2.6056 - val_accuracy: 0.0667 - 59ms/epoch - 4ms/step\n",
      "Epoch 4/50\n",
      "14/14 - 0s - loss: 2.5808 - accuracy: 0.0863 - val_loss: 2.5706 - val_accuracy: 0.1429 - 58ms/epoch - 4ms/step\n",
      "Epoch 5/50\n",
      "14/14 - 0s - loss: 2.5485 - accuracy: 0.1487 - val_loss: 2.5382 - val_accuracy: 0.1429 - 52ms/epoch - 4ms/step\n",
      "Epoch 6/50\n",
      "14/14 - 0s - loss: 2.5137 - accuracy: 0.1391 - val_loss: 2.5015 - val_accuracy: 0.0857 - 55ms/epoch - 4ms/step\n",
      "Epoch 7/50\n",
      "14/14 - 0s - loss: 2.4795 - accuracy: 0.0911 - val_loss: 2.4651 - val_accuracy: 0.1714 - 63ms/epoch - 4ms/step\n",
      "Epoch 8/50\n",
      "14/14 - 0s - loss: 2.4361 - accuracy: 0.2638 - val_loss: 2.4215 - val_accuracy: 0.3619 - 53ms/epoch - 4ms/step\n",
      "Epoch 9/50\n",
      "14/14 - 0s - loss: 2.3953 - accuracy: 0.3309 - val_loss: 2.3700 - val_accuracy: 0.3619 - 59ms/epoch - 4ms/step\n",
      "Epoch 10/50\n",
      "14/14 - 0s - loss: 2.3489 - accuracy: 0.3549 - val_loss: 2.3216 - val_accuracy: 0.2667 - 58ms/epoch - 4ms/step\n",
      "Epoch 11/50\n",
      "14/14 - 0s - loss: 2.3036 - accuracy: 0.2878 - val_loss: 2.2762 - val_accuracy: 0.2571 - 50ms/epoch - 4ms/step\n",
      "Epoch 12/50\n",
      "14/14 - 0s - loss: 2.2586 - accuracy: 0.2902 - val_loss: 2.2252 - val_accuracy: 0.3333 - 54ms/epoch - 4ms/step\n",
      "Epoch 13/50\n",
      "14/14 - 0s - loss: 2.2100 - accuracy: 0.3453 - val_loss: 2.1759 - val_accuracy: 0.3429 - 64ms/epoch - 5ms/step\n",
      "Epoch 14/50\n",
      "14/14 - 0s - loss: 2.1584 - accuracy: 0.3789 - val_loss: 2.1417 - val_accuracy: 0.3238 - 57ms/epoch - 4ms/step\n",
      "Epoch 15/50\n",
      "14/14 - 0s - loss: 2.1123 - accuracy: 0.3405 - val_loss: 2.0834 - val_accuracy: 0.3810 - 60ms/epoch - 4ms/step\n",
      "Epoch 16/50\n",
      "14/14 - 0s - loss: 2.0639 - accuracy: 0.4053 - val_loss: 2.0326 - val_accuracy: 0.3810 - 56ms/epoch - 4ms/step\n",
      "Epoch 17/50\n",
      "14/14 - 0s - loss: 2.0181 - accuracy: 0.3981 - val_loss: 1.9966 - val_accuracy: 0.2571 - 52ms/epoch - 4ms/step\n",
      "Epoch 18/50\n",
      "14/14 - 0s - loss: 1.9755 - accuracy: 0.3549 - val_loss: 1.9538 - val_accuracy: 0.3143 - 56ms/epoch - 4ms/step\n",
      "Epoch 19/50\n",
      "14/14 - 0s - loss: 1.9443 - accuracy: 0.3453 - val_loss: 1.8954 - val_accuracy: 0.3810 - 55ms/epoch - 4ms/step\n",
      "Epoch 20/50\n",
      "14/14 - 0s - loss: 1.8996 - accuracy: 0.4436 - val_loss: 1.8571 - val_accuracy: 0.3429 - 57ms/epoch - 4ms/step\n",
      "Epoch 21/50\n",
      "14/14 - 0s - loss: 1.8703 - accuracy: 0.4436 - val_loss: 1.8131 - val_accuracy: 0.3619 - 55ms/epoch - 4ms/step\n",
      "Epoch 22/50\n",
      "14/14 - 0s - loss: 1.8364 - accuracy: 0.3837 - val_loss: 1.7782 - val_accuracy: 0.4095 - 47ms/epoch - 3ms/step\n",
      "Epoch 23/50\n",
      "14/14 - 0s - loss: 1.8030 - accuracy: 0.4173 - val_loss: 1.7326 - val_accuracy: 0.4095 - 50ms/epoch - 4ms/step\n",
      "Epoch 24/50\n",
      "14/14 - 0s - loss: 1.7816 - accuracy: 0.4101 - val_loss: 1.7118 - val_accuracy: 0.4571 - 74ms/epoch - 5ms/step\n",
      "Epoch 25/50\n",
      "14/14 - 0s - loss: 1.7477 - accuracy: 0.4293 - val_loss: 1.6993 - val_accuracy: 0.3714 - 56ms/epoch - 4ms/step\n",
      "Epoch 26/50\n",
      "14/14 - 0s - loss: 1.7255 - accuracy: 0.4221 - val_loss: 1.6889 - val_accuracy: 0.4095 - 56ms/epoch - 4ms/step\n",
      "Epoch 27/50\n",
      "14/14 - 0s - loss: 1.7082 - accuracy: 0.4580 - val_loss: 1.6564 - val_accuracy: 0.3810 - 52ms/epoch - 4ms/step\n",
      "Epoch 28/50\n",
      "14/14 - 0s - loss: 1.6812 - accuracy: 0.4628 - val_loss: 1.6701 - val_accuracy: 0.3619 - 54ms/epoch - 4ms/step\n",
      "Epoch 29/50\n",
      "14/14 - 0s - loss: 1.6724 - accuracy: 0.4532 - val_loss: 1.6470 - val_accuracy: 0.3714 - 53ms/epoch - 4ms/step\n",
      "Epoch 30/50\n",
      "14/14 - 0s - loss: 1.6462 - accuracy: 0.4341 - val_loss: 1.5942 - val_accuracy: 0.4000 - 57ms/epoch - 4ms/step\n",
      "Epoch 31/50\n",
      "14/14 - 0s - loss: 1.6239 - accuracy: 0.4628 - val_loss: 1.5606 - val_accuracy: 0.4857 - 51ms/epoch - 4ms/step\n",
      "Epoch 32/50\n",
      "14/14 - 0s - loss: 1.6134 - accuracy: 0.4796 - val_loss: 1.5410 - val_accuracy: 0.4667 - 51ms/epoch - 4ms/step\n",
      "Epoch 33/50\n",
      "14/14 - 0s - loss: 1.5905 - accuracy: 0.4820 - val_loss: 1.5476 - val_accuracy: 0.4952 - 47ms/epoch - 3ms/step\n",
      "Epoch 34/50\n",
      "14/14 - 0s - loss: 1.5869 - accuracy: 0.4388 - val_loss: 1.5636 - val_accuracy: 0.4000 - 48ms/epoch - 3ms/step\n",
      "Epoch 35/50\n",
      "14/14 - 0s - loss: 1.5689 - accuracy: 0.4341 - val_loss: 1.5237 - val_accuracy: 0.4571 - 45ms/epoch - 3ms/step\n",
      "Epoch 36/50\n",
      "14/14 - 0s - loss: 1.5529 - accuracy: 0.4964 - val_loss: 1.5248 - val_accuracy: 0.4381 - 44ms/epoch - 3ms/step\n",
      "Epoch 37/50\n",
      "14/14 - 0s - loss: 1.5477 - accuracy: 0.4772 - val_loss: 1.5106 - val_accuracy: 0.4190 - 58ms/epoch - 4ms/step\n",
      "Epoch 38/50\n",
      "14/14 - 0s - loss: 1.5357 - accuracy: 0.4940 - val_loss: 1.4858 - val_accuracy: 0.4286 - 61ms/epoch - 4ms/step\n",
      "Epoch 39/50\n",
      "14/14 - 0s - loss: 1.5249 - accuracy: 0.4772 - val_loss: 1.4716 - val_accuracy: 0.4286 - 57ms/epoch - 4ms/step\n",
      "Epoch 40/50\n",
      "14/14 - 0s - loss: 1.5149 - accuracy: 0.4700 - val_loss: 1.5033 - val_accuracy: 0.4381 - 61ms/epoch - 4ms/step\n",
      "Epoch 41/50\n",
      "14/14 - 0s - loss: 1.5130 - accuracy: 0.4772 - val_loss: 1.4574 - val_accuracy: 0.5143 - 51ms/epoch - 4ms/step\n",
      "Epoch 42/50\n",
      "14/14 - 0s - loss: 1.4963 - accuracy: 0.4892 - val_loss: 1.4248 - val_accuracy: 0.4857 - 59ms/epoch - 4ms/step\n",
      "Epoch 43/50\n",
      "14/14 - 0s - loss: 1.4847 - accuracy: 0.5036 - val_loss: 1.4847 - val_accuracy: 0.5429 - 53ms/epoch - 4ms/step\n",
      "Epoch 44/50\n",
      "14/14 - 0s - loss: 1.4894 - accuracy: 0.5108 - val_loss: 1.4519 - val_accuracy: 0.5143 - 52ms/epoch - 4ms/step\n",
      "Epoch 45/50\n",
      "14/14 - 0s - loss: 1.4801 - accuracy: 0.4892 - val_loss: 1.4207 - val_accuracy: 0.5048 - 53ms/epoch - 4ms/step\n",
      "Epoch 46/50\n",
      "14/14 - 0s - loss: 1.4817 - accuracy: 0.4508 - val_loss: 1.4750 - val_accuracy: 0.5714 - 54ms/epoch - 4ms/step\n",
      "Epoch 47/50\n",
      "14/14 - 0s - loss: 1.4739 - accuracy: 0.5180 - val_loss: 1.3739 - val_accuracy: 0.5048 - 58ms/epoch - 4ms/step\n",
      "Epoch 48/50\n",
      "14/14 - 0s - loss: 1.4546 - accuracy: 0.5084 - val_loss: 1.3863 - val_accuracy: 0.4476 - 53ms/epoch - 4ms/step\n",
      "Epoch 49/50\n",
      "14/14 - 0s - loss: 1.4480 - accuracy: 0.5084 - val_loss: 1.3790 - val_accuracy: 0.5333 - 52ms/epoch - 4ms/step\n",
      "Epoch 50/50\n",
      "14/14 - 0s - loss: 1.4556 - accuracy: 0.5276 - val_loss: 1.3795 - val_accuracy: 0.5238 - 58ms/epoch - 4ms/step\n"
     ]
    },
    {
     "data": {
      "text/plain": [
       "<keras.callbacks.History at 0x22777a4e6a0>"
      ]
     },
     "execution_count": 25,
     "metadata": {},
     "output_type": "execute_result"
    }
   ],
   "source": [
    "model.fit(X_train, y_train, epochs=50, verbose=2, validation_data=(X_val, y_val))"
   ]
  },
  {
   "cell_type": "markdown",
   "id": "afb7dd80",
   "metadata": {},
   "source": [
    "Our final validation accuracy is ~52%"
   ]
  },
  {
   "cell_type": "markdown",
   "id": "fa985410",
   "metadata": {},
   "source": [
    "### Evaluating current model"
   ]
  },
  {
   "cell_type": "code",
   "execution_count": 26,
   "id": "56f31aae",
   "metadata": {},
   "outputs": [
    {
     "name": "stdout",
     "output_type": "stream",
     "text": [
      "5/5 [==============================] - 0s 3ms/step - loss: 1.4001 - accuracy: 0.5038\n"
     ]
    },
    {
     "data": {
      "text/plain": [
       "[1.400079369544983, 0.5038167834281921]"
      ]
     },
     "execution_count": 26,
     "metadata": {},
     "output_type": "execute_result"
    }
   ],
   "source": [
    "model.evaluate(X_test, y_test)"
   ]
  },
  {
   "cell_type": "markdown",
   "id": "e376ff6b",
   "metadata": {},
   "source": [
    "### Hyperparameter tuning"
   ]
  },
  {
   "cell_type": "code",
   "execution_count": 27,
   "id": "3f99a25b",
   "metadata": {},
   "outputs": [],
   "source": [
    "import keras\n",
    "from keras import layers\n",
    "import tensorflow"
   ]
  },
  {
   "cell_type": "code",
   "execution_count": 28,
   "id": "7ccedee7",
   "metadata": {},
   "outputs": [],
   "source": [
    "def build_model(hp):\n",
    "    \n",
    "    model = keras.Sequential()\n",
    "    counter = 0\n",
    "    \n",
    "    for i in range(hp.Int('num_layers',min_value=1,max_value=10)):\n",
    "        if counter == 0:\n",
    "            model.add(layers.Dense(hp.Int('units_' + str(i),\n",
    "                                min_value=8,\n",
    "                                max_value=128,\n",
    "                                step=8), kernel_initializer = 'he_uniform', activation='relu',input_dim = 3))\n",
    "            model.add(layers.Dropout(hp.Choice('dropout' + str(i), values=[0.1,0.2,0.3,0.4,0.5,0.6,0.7,0.8,0.9])))\n",
    "        else:\n",
    "            model.add(layers.Dense(units=hp.Int('units_' + str(i),\n",
    "                                            min_value=8,\n",
    "                                            max_value=128,\n",
    "                                            step=8),\n",
    "                               activation='relu', kernel_initializer = 'he_uniform'))\n",
    "            model.add(layers.Dropout(hp.Choice('dropout' + str(i), values=[0.1,0.2,0.3,0.4,0.5,0.6,0.7,0.8,0.9])))\n",
    "        counter+=1\n",
    "    \n",
    "    # Adding the output layer\n",
    "    model.add(layers.Dense(15, activation='sigmoid', kernel_initializer = 'glorot_uniform'))\n",
    "    # Compiling the ANN\n",
    "    model.compile(\n",
    "        optimizer=tensorflow.keras.optimizers.Adam(\n",
    "            hp.Choice('learning_rate', [1e-2, 1e-3, 1e-4])),\n",
    "        loss='binary_crossentropy',\n",
    "        metrics=['accuracy'])\n",
    "    return model        "
   ]
  },
  {
   "cell_type": "code",
   "execution_count": 29,
   "id": "c6b4ab31",
   "metadata": {},
   "outputs": [],
   "source": [
    "from keras_tuner.tuners import RandomSearch"
   ]
  },
  {
   "cell_type": "code",
   "execution_count": 31,
   "id": "9e29dc89",
   "metadata": {},
   "outputs": [],
   "source": [
    "tuner = RandomSearch(\n",
    "    build_model,\n",
    "    objective='val_accuracy',\n",
    "    seed=42,\n",
    "    max_trials=5,\n",
    "    overwrite=True,\n",
    "    executions_per_trial=3,\n",
    "    directory='dl_lab',\n",
    "    project_name='try1')"
   ]
  },
  {
   "cell_type": "code",
   "execution_count": 32,
   "id": "ba4fd529",
   "metadata": {},
   "outputs": [
    {
     "name": "stdout",
     "output_type": "stream",
     "text": [
      "Trial 5 Complete [00h 00m 46s]\n",
      "val_accuracy: 0.5396825671195984\n",
      "\n",
      "Best val_accuracy So Far: 0.761904776096344\n",
      "Total elapsed time: 00h 03m 48s\n",
      "INFO:tensorflow:Oracle triggered exit\n"
     ]
    }
   ],
   "source": [
    "tuner.search(X_train, y_train, epochs=150, validation_data=(X_val, y_val))"
   ]
  },
  {
   "cell_type": "code",
   "execution_count": 33,
   "id": "3df07976",
   "metadata": {},
   "outputs": [
    {
     "data": {
      "text/plain": [
       "{'num_layers': 2,\n",
       " 'units_0': 64,\n",
       " 'dropout0': 0.5,\n",
       " 'learning_rate': 0.01,\n",
       " 'units_1': 104,\n",
       " 'dropout1': 0.3,\n",
       " 'units_2': 56,\n",
       " 'dropout2': 0.2,\n",
       " 'units_3': 32,\n",
       " 'dropout3': 0.2,\n",
       " 'units_4': 56,\n",
       " 'dropout4': 0.8,\n",
       " 'units_5': 72,\n",
       " 'dropout5': 0.9,\n",
       " 'units_6': 56,\n",
       " 'dropout6': 0.4,\n",
       " 'units_7': 48,\n",
       " 'dropout7': 0.7,\n",
       " 'units_8': 24,\n",
       " 'dropout8': 0.4}"
      ]
     },
     "execution_count": 33,
     "metadata": {},
     "output_type": "execute_result"
    }
   ],
   "source": [
    "tuner.get_best_hyperparameters()[0].values"
   ]
  },
  {
   "cell_type": "markdown",
   "id": "aaa48f82",
   "metadata": {},
   "source": [
    "### Using the best model"
   ]
  },
  {
   "cell_type": "code",
   "execution_count": 34,
   "id": "f621ad63",
   "metadata": {},
   "outputs": [],
   "source": [
    "model = tuner.get_best_models(num_models=1)[0]"
   ]
  },
  {
   "cell_type": "code",
   "execution_count": 35,
   "id": "d7156f4d",
   "metadata": {},
   "outputs": [
    {
     "name": "stdout",
     "output_type": "stream",
     "text": [
      "Model: \"sequential\"\n",
      "_________________________________________________________________\n",
      " Layer (type)                Output Shape              Param #   \n",
      "=================================================================\n",
      " dense (Dense)               (None, 64)                256       \n",
      "                                                                 \n",
      " dropout (Dropout)           (None, 64)                0         \n",
      "                                                                 \n",
      " dense_1 (Dense)             (None, 104)               6760      \n",
      "                                                                 \n",
      " dropout_1 (Dropout)         (None, 104)               0         \n",
      "                                                                 \n",
      " dense_2 (Dense)             (None, 15)                1575      \n",
      "                                                                 \n",
      "=================================================================\n",
      "Total params: 8,591\n",
      "Trainable params: 8,591\n",
      "Non-trainable params: 0\n",
      "_________________________________________________________________\n"
     ]
    }
   ],
   "source": [
    "model.summary()"
   ]
  },
  {
   "cell_type": "code",
   "execution_count": 36,
   "id": "fa606a99",
   "metadata": {},
   "outputs": [
    {
     "name": "stdout",
     "output_type": "stream",
     "text": [
      "Epoch 7/150\n",
      "14/14 - 1s - loss: 0.1286 - accuracy: 0.5923 - val_loss: 0.1189 - val_accuracy: 0.7238 - 1s/epoch - 73ms/step\n",
      "Epoch 8/150\n",
      "14/14 - 0s - loss: 0.1320 - accuracy: 0.5851 - val_loss: 0.1155 - val_accuracy: 0.6952 - 77ms/epoch - 6ms/step\n",
      "Epoch 9/150\n",
      "14/14 - 0s - loss: 0.1312 - accuracy: 0.5635 - val_loss: 0.1187 - val_accuracy: 0.6381 - 66ms/epoch - 5ms/step\n",
      "Epoch 10/150\n",
      "14/14 - 0s - loss: 0.1331 - accuracy: 0.5779 - val_loss: 0.1187 - val_accuracy: 0.6571 - 71ms/epoch - 5ms/step\n",
      "Epoch 11/150\n",
      "14/14 - 0s - loss: 0.1324 - accuracy: 0.5324 - val_loss: 0.1175 - val_accuracy: 0.6571 - 72ms/epoch - 5ms/step\n",
      "Epoch 12/150\n",
      "14/14 - 0s - loss: 0.1332 - accuracy: 0.5348 - val_loss: 0.1169 - val_accuracy: 0.6476 - 72ms/epoch - 5ms/step\n",
      "Epoch 13/150\n",
      "14/14 - 0s - loss: 0.1304 - accuracy: 0.5396 - val_loss: 0.1190 - val_accuracy: 0.6667 - 75ms/epoch - 5ms/step\n",
      "Epoch 14/150\n",
      "14/14 - 0s - loss: 0.1348 - accuracy: 0.5683 - val_loss: 0.1217 - val_accuracy: 0.6190 - 68ms/epoch - 5ms/step\n",
      "Epoch 15/150\n",
      "14/14 - 0s - loss: 0.1319 - accuracy: 0.5731 - val_loss: 0.1215 - val_accuracy: 0.6571 - 73ms/epoch - 5ms/step\n",
      "Epoch 16/150\n",
      "14/14 - 0s - loss: 0.1319 - accuracy: 0.5755 - val_loss: 0.1177 - val_accuracy: 0.6857 - 66ms/epoch - 5ms/step\n",
      "Epoch 17/150\n",
      "14/14 - 0s - loss: 0.1384 - accuracy: 0.5156 - val_loss: 0.1253 - val_accuracy: 0.6571 - 71ms/epoch - 5ms/step\n",
      "Epoch 18/150\n",
      "14/14 - 0s - loss: 0.1340 - accuracy: 0.5635 - val_loss: 0.1182 - val_accuracy: 0.7714 - 73ms/epoch - 5ms/step\n",
      "Epoch 19/150\n",
      "14/14 - 0s - loss: 0.1346 - accuracy: 0.5683 - val_loss: 0.1167 - val_accuracy: 0.6952 - 64ms/epoch - 5ms/step\n",
      "Epoch 20/150\n",
      "14/14 - 0s - loss: 0.1323 - accuracy: 0.5468 - val_loss: 0.1166 - val_accuracy: 0.7238 - 66ms/epoch - 5ms/step\n",
      "Epoch 21/150\n",
      "14/14 - 0s - loss: 0.1284 - accuracy: 0.5947 - val_loss: 0.1181 - val_accuracy: 0.7143 - 68ms/epoch - 5ms/step\n",
      "Epoch 22/150\n",
      "14/14 - 0s - loss: 0.1358 - accuracy: 0.5300 - val_loss: 0.1166 - val_accuracy: 0.6762 - 70ms/epoch - 5ms/step\n",
      "Epoch 23/150\n",
      "14/14 - 0s - loss: 0.1348 - accuracy: 0.5659 - val_loss: 0.1208 - val_accuracy: 0.6000 - 70ms/epoch - 5ms/step\n",
      "Epoch 24/150\n",
      "14/14 - 0s - loss: 0.1317 - accuracy: 0.5492 - val_loss: 0.1184 - val_accuracy: 0.6857 - 71ms/epoch - 5ms/step\n",
      "Epoch 25/150\n",
      "14/14 - 0s - loss: 0.1316 - accuracy: 0.5683 - val_loss: 0.1174 - val_accuracy: 0.7238 - 67ms/epoch - 5ms/step\n",
      "Epoch 26/150\n",
      "14/14 - 0s - loss: 0.1327 - accuracy: 0.5755 - val_loss: 0.1184 - val_accuracy: 0.6381 - 66ms/epoch - 5ms/step\n",
      "Epoch 27/150\n",
      "14/14 - 0s - loss: 0.1417 - accuracy: 0.5348 - val_loss: 0.1224 - val_accuracy: 0.6857 - 68ms/epoch - 5ms/step\n",
      "Epoch 28/150\n",
      "14/14 - 0s - loss: 0.1319 - accuracy: 0.5444 - val_loss: 0.1196 - val_accuracy: 0.6952 - 67ms/epoch - 5ms/step\n",
      "Epoch 29/150\n",
      "14/14 - 0s - loss: 0.1362 - accuracy: 0.5324 - val_loss: 0.1218 - val_accuracy: 0.6762 - 64ms/epoch - 5ms/step\n",
      "Epoch 30/150\n",
      "14/14 - 0s - loss: 0.1256 - accuracy: 0.5803 - val_loss: 0.1176 - val_accuracy: 0.7524 - 64ms/epoch - 5ms/step\n",
      "Epoch 31/150\n",
      "14/14 - 0s - loss: 0.1360 - accuracy: 0.5540 - val_loss: 0.1167 - val_accuracy: 0.7143 - 67ms/epoch - 5ms/step\n",
      "Epoch 32/150\n",
      "14/14 - 0s - loss: 0.1311 - accuracy: 0.5612 - val_loss: 0.1165 - val_accuracy: 0.7048 - 77ms/epoch - 6ms/step\n",
      "Epoch 33/150\n",
      "14/14 - 0s - loss: 0.1272 - accuracy: 0.5779 - val_loss: 0.1176 - val_accuracy: 0.7429 - 66ms/epoch - 5ms/step\n",
      "Epoch 34/150\n",
      "14/14 - 0s - loss: 0.1283 - accuracy: 0.5923 - val_loss: 0.1165 - val_accuracy: 0.7333 - 65ms/epoch - 5ms/step\n",
      "Epoch 35/150\n",
      "14/14 - 0s - loss: 0.1313 - accuracy: 0.5659 - val_loss: 0.1181 - val_accuracy: 0.7048 - 67ms/epoch - 5ms/step\n",
      "Epoch 36/150\n",
      "14/14 - 0s - loss: 0.1302 - accuracy: 0.5875 - val_loss: 0.1211 - val_accuracy: 0.7048 - 66ms/epoch - 5ms/step\n",
      "Epoch 37/150\n",
      "14/14 - 0s - loss: 0.1333 - accuracy: 0.5444 - val_loss: 0.1206 - val_accuracy: 0.7238 - 66ms/epoch - 5ms/step\n",
      "Epoch 38/150\n",
      "14/14 - 0s - loss: 0.1266 - accuracy: 0.5827 - val_loss: 0.1150 - val_accuracy: 0.7714 - 64ms/epoch - 5ms/step\n",
      "Epoch 39/150\n",
      "14/14 - 0s - loss: 0.1291 - accuracy: 0.5707 - val_loss: 0.1161 - val_accuracy: 0.6952 - 68ms/epoch - 5ms/step\n",
      "Epoch 40/150\n",
      "14/14 - 0s - loss: 0.1287 - accuracy: 0.5707 - val_loss: 0.1182 - val_accuracy: 0.6952 - 68ms/epoch - 5ms/step\n",
      "Epoch 41/150\n",
      "14/14 - 0s - loss: 0.1274 - accuracy: 0.5851 - val_loss: 0.1162 - val_accuracy: 0.6667 - 67ms/epoch - 5ms/step\n",
      "Epoch 42/150\n",
      "14/14 - 0s - loss: 0.1296 - accuracy: 0.5923 - val_loss: 0.1170 - val_accuracy: 0.7238 - 63ms/epoch - 5ms/step\n",
      "Epoch 43/150\n",
      "14/14 - 0s - loss: 0.1269 - accuracy: 0.5755 - val_loss: 0.1150 - val_accuracy: 0.7429 - 64ms/epoch - 5ms/step\n",
      "Epoch 44/150\n",
      "14/14 - 0s - loss: 0.1336 - accuracy: 0.5516 - val_loss: 0.1144 - val_accuracy: 0.7619 - 58ms/epoch - 4ms/step\n",
      "Epoch 45/150\n",
      "14/14 - 0s - loss: 0.1314 - accuracy: 0.5851 - val_loss: 0.1218 - val_accuracy: 0.6952 - 74ms/epoch - 5ms/step\n",
      "Epoch 46/150\n",
      "14/14 - 0s - loss: 0.1278 - accuracy: 0.6019 - val_loss: 0.1146 - val_accuracy: 0.6762 - 75ms/epoch - 5ms/step\n",
      "Epoch 47/150\n",
      "14/14 - 0s - loss: 0.1260 - accuracy: 0.5875 - val_loss: 0.1163 - val_accuracy: 0.6762 - 74ms/epoch - 5ms/step\n",
      "Epoch 48/150\n",
      "14/14 - 0s - loss: 0.1259 - accuracy: 0.5851 - val_loss: 0.1148 - val_accuracy: 0.7619 - 68ms/epoch - 5ms/step\n",
      "Epoch 49/150\n",
      "14/14 - 0s - loss: 0.1260 - accuracy: 0.5947 - val_loss: 0.1185 - val_accuracy: 0.7143 - 65ms/epoch - 5ms/step\n",
      "Epoch 50/150\n",
      "14/14 - 0s - loss: 0.1284 - accuracy: 0.5827 - val_loss: 0.1135 - val_accuracy: 0.7048 - 69ms/epoch - 5ms/step\n",
      "Epoch 51/150\n",
      "14/14 - 0s - loss: 0.1315 - accuracy: 0.5707 - val_loss: 0.1157 - val_accuracy: 0.7333 - 64ms/epoch - 5ms/step\n",
      "Epoch 52/150\n",
      "14/14 - 0s - loss: 0.1245 - accuracy: 0.6067 - val_loss: 0.1136 - val_accuracy: 0.7333 - 68ms/epoch - 5ms/step\n",
      "Epoch 53/150\n",
      "14/14 - 0s - loss: 0.1284 - accuracy: 0.5875 - val_loss: 0.1162 - val_accuracy: 0.7048 - 72ms/epoch - 5ms/step\n",
      "Epoch 54/150\n",
      "14/14 - 0s - loss: 0.1279 - accuracy: 0.5899 - val_loss: 0.1157 - val_accuracy: 0.7238 - 72ms/epoch - 5ms/step\n",
      "Epoch 55/150\n",
      "14/14 - 0s - loss: 0.1298 - accuracy: 0.5683 - val_loss: 0.1158 - val_accuracy: 0.6857 - 69ms/epoch - 5ms/step\n",
      "Epoch 56/150\n",
      "14/14 - 0s - loss: 0.1294 - accuracy: 0.6043 - val_loss: 0.1168 - val_accuracy: 0.6952 - 65ms/epoch - 5ms/step\n",
      "Epoch 57/150\n",
      "14/14 - 0s - loss: 0.1327 - accuracy: 0.5588 - val_loss: 0.1225 - val_accuracy: 0.7429 - 65ms/epoch - 5ms/step\n",
      "Epoch 58/150\n",
      "14/14 - 0s - loss: 0.1300 - accuracy: 0.5875 - val_loss: 0.1142 - val_accuracy: 0.7524 - 65ms/epoch - 5ms/step\n",
      "Epoch 59/150\n",
      "14/14 - 0s - loss: 0.1319 - accuracy: 0.5971 - val_loss: 0.1182 - val_accuracy: 0.7524 - 67ms/epoch - 5ms/step\n",
      "Epoch 60/150\n",
      "14/14 - 0s - loss: 0.1348 - accuracy: 0.5492 - val_loss: 0.1279 - val_accuracy: 0.6095 - 58ms/epoch - 4ms/step\n",
      "Epoch 61/150\n",
      "14/14 - 0s - loss: 0.1305 - accuracy: 0.5851 - val_loss: 0.1205 - val_accuracy: 0.6952 - 60ms/epoch - 4ms/step\n",
      "Epoch 62/150\n",
      "14/14 - 0s - loss: 0.1289 - accuracy: 0.5372 - val_loss: 0.1148 - val_accuracy: 0.7524 - 84ms/epoch - 6ms/step\n",
      "Epoch 63/150\n",
      "14/14 - 0s - loss: 0.1221 - accuracy: 0.6187 - val_loss: 0.1138 - val_accuracy: 0.7619 - 60ms/epoch - 4ms/step\n",
      "Epoch 64/150\n",
      "14/14 - 0s - loss: 0.1231 - accuracy: 0.5923 - val_loss: 0.1150 - val_accuracy: 0.7333 - 60ms/epoch - 4ms/step\n",
      "Epoch 65/150\n",
      "14/14 - 0s - loss: 0.1215 - accuracy: 0.6139 - val_loss: 0.1160 - val_accuracy: 0.6952 - 60ms/epoch - 4ms/step\n",
      "Epoch 66/150\n",
      "14/14 - 0s - loss: 0.1251 - accuracy: 0.5947 - val_loss: 0.1135 - val_accuracy: 0.7143 - 59ms/epoch - 4ms/step\n",
      "Epoch 67/150\n",
      "14/14 - 0s - loss: 0.1233 - accuracy: 0.6355 - val_loss: 0.1132 - val_accuracy: 0.7429 - 58ms/epoch - 4ms/step\n",
      "Epoch 68/150\n",
      "14/14 - 0s - loss: 0.1258 - accuracy: 0.6187 - val_loss: 0.1176 - val_accuracy: 0.7238 - 60ms/epoch - 4ms/step\n",
      "Epoch 69/150\n",
      "14/14 - 0s - loss: 0.1232 - accuracy: 0.6091 - val_loss: 0.1148 - val_accuracy: 0.6857 - 58ms/epoch - 4ms/step\n",
      "Epoch 70/150\n",
      "14/14 - 0s - loss: 0.1324 - accuracy: 0.5779 - val_loss: 0.1169 - val_accuracy: 0.6952 - 62ms/epoch - 4ms/step\n",
      "Epoch 71/150\n",
      "14/14 - 0s - loss: 0.1311 - accuracy: 0.5923 - val_loss: 0.1179 - val_accuracy: 0.6857 - 65ms/epoch - 5ms/step\n",
      "Epoch 72/150\n",
      "14/14 - 0s - loss: 0.1276 - accuracy: 0.5564 - val_loss: 0.1172 - val_accuracy: 0.7143 - 58ms/epoch - 4ms/step\n",
      "Epoch 73/150\n"
     ]
    },
    {
     "name": "stdout",
     "output_type": "stream",
     "text": [
      "14/14 - 0s - loss: 0.1263 - accuracy: 0.5683 - val_loss: 0.1141 - val_accuracy: 0.7619 - 58ms/epoch - 4ms/step\n",
      "Epoch 74/150\n",
      "14/14 - 0s - loss: 0.1269 - accuracy: 0.5971 - val_loss: 0.1189 - val_accuracy: 0.7238 - 66ms/epoch - 5ms/step\n",
      "Epoch 75/150\n",
      "14/14 - 0s - loss: 0.1241 - accuracy: 0.5827 - val_loss: 0.1156 - val_accuracy: 0.7333 - 66ms/epoch - 5ms/step\n",
      "Epoch 76/150\n",
      "14/14 - 0s - loss: 0.1252 - accuracy: 0.6211 - val_loss: 0.1159 - val_accuracy: 0.7333 - 82ms/epoch - 6ms/step\n",
      "Epoch 77/150\n",
      "14/14 - 0s - loss: 0.1259 - accuracy: 0.6091 - val_loss: 0.1129 - val_accuracy: 0.7333 - 66ms/epoch - 5ms/step\n",
      "Epoch 78/150\n",
      "14/14 - 0s - loss: 0.1241 - accuracy: 0.6115 - val_loss: 0.1128 - val_accuracy: 0.7143 - 77ms/epoch - 5ms/step\n",
      "Epoch 79/150\n",
      "14/14 - 0s - loss: 0.1208 - accuracy: 0.6331 - val_loss: 0.1151 - val_accuracy: 0.6857 - 65ms/epoch - 5ms/step\n",
      "Epoch 80/150\n",
      "14/14 - 0s - loss: 0.1249 - accuracy: 0.5707 - val_loss: 0.1196 - val_accuracy: 0.6857 - 65ms/epoch - 5ms/step\n",
      "Epoch 81/150\n",
      "14/14 - 0s - loss: 0.1254 - accuracy: 0.5923 - val_loss: 0.1223 - val_accuracy: 0.6857 - 58ms/epoch - 4ms/step\n",
      "Epoch 82/150\n",
      "14/14 - 0s - loss: 0.1220 - accuracy: 0.5899 - val_loss: 0.1163 - val_accuracy: 0.6857 - 52ms/epoch - 4ms/step\n",
      "Epoch 83/150\n",
      "14/14 - 0s - loss: 0.1308 - accuracy: 0.5755 - val_loss: 0.1143 - val_accuracy: 0.7238 - 56ms/epoch - 4ms/step\n",
      "Epoch 84/150\n",
      "14/14 - 0s - loss: 0.1245 - accuracy: 0.6259 - val_loss: 0.1170 - val_accuracy: 0.7238 - 60ms/epoch - 4ms/step\n",
      "Epoch 85/150\n",
      "14/14 - 0s - loss: 0.1264 - accuracy: 0.6115 - val_loss: 0.1202 - val_accuracy: 0.7524 - 61ms/epoch - 4ms/step\n",
      "Epoch 86/150\n",
      "14/14 - 0s - loss: 0.1339 - accuracy: 0.5683 - val_loss: 0.1223 - val_accuracy: 0.6762 - 65ms/epoch - 5ms/step\n",
      "Epoch 87/150\n",
      "14/14 - 0s - loss: 0.1324 - accuracy: 0.5444 - val_loss: 0.1170 - val_accuracy: 0.7238 - 59ms/epoch - 4ms/step\n",
      "Epoch 88/150\n",
      "14/14 - 0s - loss: 0.1272 - accuracy: 0.6115 - val_loss: 0.1185 - val_accuracy: 0.6952 - 60ms/epoch - 4ms/step\n",
      "Epoch 89/150\n",
      "14/14 - 0s - loss: 0.1244 - accuracy: 0.6115 - val_loss: 0.1139 - val_accuracy: 0.7524 - 59ms/epoch - 4ms/step\n",
      "Epoch 90/150\n",
      "14/14 - 0s - loss: 0.1223 - accuracy: 0.6115 - val_loss: 0.1123 - val_accuracy: 0.7143 - 62ms/epoch - 4ms/step\n",
      "Epoch 91/150\n",
      "14/14 - 0s - loss: 0.1300 - accuracy: 0.5995 - val_loss: 0.1127 - val_accuracy: 0.7048 - 58ms/epoch - 4ms/step\n",
      "Epoch 92/150\n",
      "14/14 - 0s - loss: 0.1220 - accuracy: 0.6427 - val_loss: 0.1127 - val_accuracy: 0.7619 - 65ms/epoch - 5ms/step\n",
      "Epoch 93/150\n",
      "14/14 - 0s - loss: 0.1245 - accuracy: 0.6307 - val_loss: 0.1141 - val_accuracy: 0.7905 - 70ms/epoch - 5ms/step\n",
      "Epoch 94/150\n",
      "14/14 - 0s - loss: 0.1216 - accuracy: 0.6187 - val_loss: 0.1182 - val_accuracy: 0.7619 - 71ms/epoch - 5ms/step\n",
      "Epoch 95/150\n",
      "14/14 - 0s - loss: 0.1203 - accuracy: 0.6475 - val_loss: 0.1138 - val_accuracy: 0.6857 - 65ms/epoch - 5ms/step\n",
      "Epoch 96/150\n",
      "14/14 - 0s - loss: 0.1166 - accuracy: 0.6283 - val_loss: 0.1135 - val_accuracy: 0.6952 - 64ms/epoch - 5ms/step\n",
      "Epoch 97/150\n",
      "14/14 - 0s - loss: 0.1183 - accuracy: 0.6307 - val_loss: 0.1145 - val_accuracy: 0.7429 - 63ms/epoch - 4ms/step\n",
      "Epoch 98/150\n",
      "14/14 - 0s - loss: 0.1267 - accuracy: 0.5851 - val_loss: 0.1197 - val_accuracy: 0.6762 - 64ms/epoch - 5ms/step\n",
      "Epoch 99/150\n",
      "14/14 - 0s - loss: 0.1301 - accuracy: 0.6043 - val_loss: 0.1142 - val_accuracy: 0.7333 - 63ms/epoch - 5ms/step\n",
      "Epoch 100/150\n",
      "14/14 - 0s - loss: 0.1268 - accuracy: 0.5755 - val_loss: 0.1141 - val_accuracy: 0.6857 - 62ms/epoch - 4ms/step\n",
      "Epoch 101/150\n",
      "14/14 - 0s - loss: 0.1299 - accuracy: 0.5779 - val_loss: 0.1144 - val_accuracy: 0.7143 - 64ms/epoch - 5ms/step\n",
      "Epoch 102/150\n",
      "14/14 - 0s - loss: 0.1295 - accuracy: 0.5707 - val_loss: 0.1184 - val_accuracy: 0.7333 - 70ms/epoch - 5ms/step\n",
      "Epoch 103/150\n",
      "14/14 - 0s - loss: 0.1331 - accuracy: 0.5420 - val_loss: 0.1172 - val_accuracy: 0.7143 - 68ms/epoch - 5ms/step\n",
      "Epoch 104/150\n",
      "14/14 - 0s - loss: 0.1213 - accuracy: 0.6115 - val_loss: 0.1119 - val_accuracy: 0.7143 - 62ms/epoch - 4ms/step\n",
      "Epoch 105/150\n",
      "14/14 - 0s - loss: 0.1221 - accuracy: 0.6139 - val_loss: 0.1115 - val_accuracy: 0.7333 - 66ms/epoch - 5ms/step\n",
      "Epoch 106/150\n",
      "14/14 - 0s - loss: 0.1242 - accuracy: 0.5971 - val_loss: 0.1115 - val_accuracy: 0.7619 - 61ms/epoch - 4ms/step\n",
      "Epoch 107/150\n",
      "14/14 - 0s - loss: 0.1230 - accuracy: 0.6379 - val_loss: 0.1165 - val_accuracy: 0.7143 - 64ms/epoch - 5ms/step\n",
      "Epoch 108/150\n",
      "14/14 - 0s - loss: 0.1268 - accuracy: 0.5899 - val_loss: 0.1130 - val_accuracy: 0.6857 - 73ms/epoch - 5ms/step\n",
      "Epoch 109/150\n",
      "14/14 - 0s - loss: 0.1270 - accuracy: 0.5755 - val_loss: 0.1206 - val_accuracy: 0.6857 - 65ms/epoch - 5ms/step\n",
      "Epoch 110/150\n",
      "14/14 - 0s - loss: 0.1322 - accuracy: 0.5516 - val_loss: 0.1160 - val_accuracy: 0.7524 - 69ms/epoch - 5ms/step\n",
      "Epoch 111/150\n",
      "14/14 - 0s - loss: 0.1297 - accuracy: 0.5659 - val_loss: 0.1130 - val_accuracy: 0.7143 - 66ms/epoch - 5ms/step\n",
      "Epoch 112/150\n",
      "14/14 - 0s - loss: 0.1238 - accuracy: 0.5995 - val_loss: 0.1120 - val_accuracy: 0.7048 - 67ms/epoch - 5ms/step\n",
      "Epoch 113/150\n",
      "14/14 - 0s - loss: 0.1347 - accuracy: 0.5683 - val_loss: 0.1187 - val_accuracy: 0.6857 - 61ms/epoch - 4ms/step\n",
      "Epoch 114/150\n",
      "14/14 - 0s - loss: 0.1291 - accuracy: 0.5779 - val_loss: 0.1155 - val_accuracy: 0.6952 - 67ms/epoch - 5ms/step\n",
      "Epoch 115/150\n",
      "14/14 - 0s - loss: 0.1278 - accuracy: 0.5827 - val_loss: 0.1173 - val_accuracy: 0.6857 - 67ms/epoch - 5ms/step\n",
      "Epoch 116/150\n",
      "14/14 - 0s - loss: 0.1220 - accuracy: 0.6307 - val_loss: 0.1183 - val_accuracy: 0.7238 - 66ms/epoch - 5ms/step\n",
      "Epoch 117/150\n",
      "14/14 - 0s - loss: 0.1254 - accuracy: 0.5971 - val_loss: 0.1146 - val_accuracy: 0.7143 - 72ms/epoch - 5ms/step\n",
      "Epoch 118/150\n",
      "14/14 - 0s - loss: 0.1175 - accuracy: 0.6307 - val_loss: 0.1166 - val_accuracy: 0.6762 - 70ms/epoch - 5ms/step\n",
      "Epoch 119/150\n",
      "14/14 - 0s - loss: 0.1221 - accuracy: 0.6091 - val_loss: 0.1155 - val_accuracy: 0.6952 - 69ms/epoch - 5ms/step\n",
      "Epoch 120/150\n",
      "14/14 - 0s - loss: 0.1187 - accuracy: 0.6211 - val_loss: 0.1173 - val_accuracy: 0.7048 - 75ms/epoch - 5ms/step\n",
      "Epoch 121/150\n",
      "14/14 - 0s - loss: 0.1235 - accuracy: 0.5779 - val_loss: 0.1176 - val_accuracy: 0.7429 - 77ms/epoch - 5ms/step\n",
      "Epoch 122/150\n",
      "14/14 - 0s - loss: 0.1256 - accuracy: 0.6115 - val_loss: 0.1223 - val_accuracy: 0.7524 - 68ms/epoch - 5ms/step\n",
      "Epoch 123/150\n",
      "14/14 - 0s - loss: 0.1262 - accuracy: 0.5899 - val_loss: 0.1165 - val_accuracy: 0.7429 - 66ms/epoch - 5ms/step\n",
      "Epoch 124/150\n",
      "14/14 - 0s - loss: 0.1233 - accuracy: 0.6139 - val_loss: 0.1144 - val_accuracy: 0.7143 - 68ms/epoch - 5ms/step\n",
      "Epoch 125/150\n",
      "14/14 - 0s - loss: 0.1224 - accuracy: 0.5923 - val_loss: 0.1188 - val_accuracy: 0.6667 - 61ms/epoch - 4ms/step\n",
      "Epoch 126/150\n",
      "14/14 - 0s - loss: 0.1252 - accuracy: 0.5995 - val_loss: 0.1125 - val_accuracy: 0.7429 - 65ms/epoch - 5ms/step\n",
      "Epoch 127/150\n",
      "14/14 - 0s - loss: 0.1211 - accuracy: 0.5755 - val_loss: 0.1138 - val_accuracy: 0.7429 - 64ms/epoch - 5ms/step\n",
      "Epoch 128/150\n",
      "14/14 - 0s - loss: 0.1360 - accuracy: 0.5731 - val_loss: 0.1242 - val_accuracy: 0.6762 - 62ms/epoch - 4ms/step\n",
      "Epoch 129/150\n",
      "14/14 - 0s - loss: 0.1359 - accuracy: 0.5420 - val_loss: 0.1109 - val_accuracy: 0.7619 - 66ms/epoch - 5ms/step\n",
      "Epoch 130/150\n",
      "14/14 - 0s - loss: 0.1229 - accuracy: 0.6235 - val_loss: 0.1164 - val_accuracy: 0.6762 - 66ms/epoch - 5ms/step\n",
      "Epoch 131/150\n",
      "14/14 - 0s - loss: 0.1243 - accuracy: 0.5899 - val_loss: 0.1138 - val_accuracy: 0.7143 - 64ms/epoch - 5ms/step\n",
      "Epoch 132/150\n",
      "14/14 - 0s - loss: 0.1206 - accuracy: 0.6019 - val_loss: 0.1105 - val_accuracy: 0.7619 - 63ms/epoch - 5ms/step\n",
      "Epoch 133/150\n",
      "14/14 - 0s - loss: 0.1254 - accuracy: 0.5779 - val_loss: 0.1129 - val_accuracy: 0.6952 - 65ms/epoch - 5ms/step\n",
      "Epoch 134/150\n",
      "14/14 - 0s - loss: 0.1341 - accuracy: 0.5276 - val_loss: 0.1103 - val_accuracy: 0.7238 - 66ms/epoch - 5ms/step\n",
      "Epoch 135/150\n",
      "14/14 - 0s - loss: 0.1305 - accuracy: 0.5827 - val_loss: 0.1114 - val_accuracy: 0.7238 - 65ms/epoch - 5ms/step\n",
      "Epoch 136/150\n",
      "14/14 - 0s - loss: 0.1243 - accuracy: 0.5947 - val_loss: 0.1115 - val_accuracy: 0.7619 - 68ms/epoch - 5ms/step\n",
      "Epoch 137/150\n",
      "14/14 - 0s - loss: 0.1214 - accuracy: 0.6235 - val_loss: 0.1123 - val_accuracy: 0.7143 - 66ms/epoch - 5ms/step\n",
      "Epoch 138/150\n",
      "14/14 - 0s - loss: 0.1269 - accuracy: 0.5971 - val_loss: 0.1163 - val_accuracy: 0.6952 - 68ms/epoch - 5ms/step\n"
     ]
    },
    {
     "name": "stdout",
     "output_type": "stream",
     "text": [
      "Epoch 139/150\n",
      "14/14 - 0s - loss: 0.1221 - accuracy: 0.5851 - val_loss: 0.1133 - val_accuracy: 0.7619 - 69ms/epoch - 5ms/step\n",
      "Epoch 140/150\n",
      "14/14 - 0s - loss: 0.1219 - accuracy: 0.5995 - val_loss: 0.1219 - val_accuracy: 0.7048 - 65ms/epoch - 5ms/step\n",
      "Epoch 141/150\n",
      "14/14 - 0s - loss: 0.1282 - accuracy: 0.5755 - val_loss: 0.1136 - val_accuracy: 0.7143 - 68ms/epoch - 5ms/step\n",
      "Epoch 142/150\n",
      "14/14 - 0s - loss: 0.1261 - accuracy: 0.6019 - val_loss: 0.1110 - val_accuracy: 0.7333 - 70ms/epoch - 5ms/step\n",
      "Epoch 143/150\n",
      "14/14 - 0s - loss: 0.1237 - accuracy: 0.5995 - val_loss: 0.1110 - val_accuracy: 0.7429 - 69ms/epoch - 5ms/step\n",
      "Epoch 144/150\n",
      "14/14 - 0s - loss: 0.1194 - accuracy: 0.6019 - val_loss: 0.1112 - val_accuracy: 0.7714 - 70ms/epoch - 5ms/step\n",
      "Epoch 145/150\n",
      "14/14 - 0s - loss: 0.1237 - accuracy: 0.6307 - val_loss: 0.1094 - val_accuracy: 0.7619 - 73ms/epoch - 5ms/step\n",
      "Epoch 146/150\n",
      "14/14 - 0s - loss: 0.1248 - accuracy: 0.6235 - val_loss: 0.1130 - val_accuracy: 0.7524 - 71ms/epoch - 5ms/step\n",
      "Epoch 147/150\n",
      "14/14 - 0s - loss: 0.1218 - accuracy: 0.6379 - val_loss: 0.1106 - val_accuracy: 0.7714 - 66ms/epoch - 5ms/step\n",
      "Epoch 148/150\n",
      "14/14 - 0s - loss: 0.1221 - accuracy: 0.6355 - val_loss: 0.1142 - val_accuracy: 0.7714 - 69ms/epoch - 5ms/step\n",
      "Epoch 149/150\n",
      "14/14 - 0s - loss: 0.1227 - accuracy: 0.6259 - val_loss: 0.1167 - val_accuracy: 0.7619 - 68ms/epoch - 5ms/step\n",
      "Epoch 150/150\n",
      "14/14 - 0s - loss: 0.1245 - accuracy: 0.5995 - val_loss: 0.1125 - val_accuracy: 0.7619 - 67ms/epoch - 5ms/step\n"
     ]
    },
    {
     "data": {
      "text/plain": [
       "<keras.callbacks.History at 0x227067de400>"
      ]
     },
     "execution_count": 36,
     "metadata": {},
     "output_type": "execute_result"
    }
   ],
   "source": [
    "model.fit(X_train, y_train, epochs=150, initial_epoch=6, validation_data=(X_val,y_val), verbose = 2)"
   ]
  },
  {
   "cell_type": "markdown",
   "id": "93307f44",
   "metadata": {},
   "source": [
    "### Evaluating the best model"
   ]
  },
  {
   "cell_type": "code",
   "execution_count": 37,
   "id": "c2457df1",
   "metadata": {},
   "outputs": [
    {
     "name": "stdout",
     "output_type": "stream",
     "text": [
      "5/5 [==============================] - 0s 3ms/step - loss: 0.1152 - accuracy: 0.7328\n"
     ]
    },
    {
     "data": {
      "text/plain": [
       "[0.11515582352876663, 0.732824444770813]"
      ]
     },
     "execution_count": 37,
     "metadata": {},
     "output_type": "execute_result"
    }
   ],
   "source": [
    "model.evaluate(X_test, y_test)"
   ]
  },
  {
   "cell_type": "markdown",
   "id": "0bd86752",
   "metadata": {},
   "source": [
    "Our final validation accuracy after hyperparameter tuning is 73% which is a BIG 20% upside from our original model"
   ]
  }
 ],
 "metadata": {
  "kernelspec": {
   "display_name": "Python 3 (ipykernel)",
   "language": "python",
   "name": "python3"
  },
  "language_info": {
   "codemirror_mode": {
    "name": "ipython",
    "version": 3
   },
   "file_extension": ".py",
   "mimetype": "text/x-python",
   "name": "python",
   "nbconvert_exporter": "python",
   "pygments_lexer": "ipython3",
   "version": "3.9.7"
  }
 },
 "nbformat": 4,
 "nbformat_minor": 5
}
